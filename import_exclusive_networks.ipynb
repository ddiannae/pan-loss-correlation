{
 "cells": [
  {
   "cell_type": "code",
   "execution_count": 1,
   "id": "divine-efficiency",
   "metadata": {},
   "outputs": [],
   "source": [
    "import pandas as pd\n",
    "import py4cytoscape as p4c\n",
    "import glob"
   ]
  },
  {
   "cell_type": "code",
   "execution_count": 2,
   "id": "boolean-motel",
   "metadata": {},
   "outputs": [
    {
     "name": "stdout",
     "output_type": "stream",
     "text": [
      "You are connected to Cytoscape!\n"
     ]
    },
    {
     "data": {
      "text/plain": [
       "{'apiVersion': 'v1',\n",
       " 'cytoscapeVersion': '3.8.2',\n",
       " 'automationAPIVersion': '1.2.0',\n",
       " 'py4cytoscapeVersion': '0.0.9'}"
      ]
     },
     "execution_count": 2,
     "metadata": {},
     "output_type": "execute_result"
    }
   ],
   "source": [
    "p4c.cytoscape_ping()\n",
    "p4c.cytoscape_version_info()"
   ]
  },
  {
   "cell_type": "code",
   "execution_count": 3,
   "id": "designing-clear",
   "metadata": {},
   "outputs": [],
   "source": [
    "tissues = [\"bladder\", \"brain\", \"breast\", \"colorectal\", \"esophagus\",\n",
    "            \"kidney\", \"liver\", \"lung\", \"ovary\", \"pancreas\", \"prostate\",\n",
    "            \"testis\", \"thyroid\",\"skin\", \"uterus\"]"
   ]
  },
  {
   "cell_type": "code",
   "execution_count": 4,
   "id": "informal-founder",
   "metadata": {},
   "outputs": [],
   "source": [
    "ni = \"10000\""
   ]
  },
  {
   "cell_type": "code",
   "execution_count": 11,
   "id": "interstate-framing",
   "metadata": {},
   "outputs": [],
   "source": [
    "def loadCancerOnlyNetworks(ts, ni):\n",
    "    for t in ts:\n",
    "        p4c.sandbox_send_to(\"../regulaciontrans-data-server/pan-loss/exclusive_networks/\"+t+\"-cancer_only-interactions-\"+ni+\".tsv\", t+\"_cancer_\"+ni+\".tsv\") \n",
    "        net = p4c.import_network_from_tabular_file(t+\"_cancer_\"+ni+\".tsv\", first_row_as_column_names=True,\n",
    "                                         column_type_list = \"s,t,ea\") \n",
    "        vertices = pd.read_csv(\"../regulaciontrans-data-server/pan-loss/exclusive_networks/\"+t+\"-cancer_only-vertices-\"+ni+\".tsv\",\n",
    "                              sep =\"\\t\")\n",
    "        vertices.rename(columns={'ensembl_id': 'name'}, inplace=True)\n",
    "        p4c.load_table_data(vertices, data_key_column=\"name\", network = net[\"networks\"][0])\n",
    "        deg = pd.read_csv(glob.glob(\"../regulaciontrans-data-server/\"+t+\"/deg/*_*_*_si-arsyn_deg_results.tsv\")[0], sep=\"\\t\")\n",
    "        deg.rename(columns={'ensembl_id': 'name'}, inplace=True)\n",
    "        p4c.load_table_data(deg, data_key_column=\"name\", network = net[\"networks\"][0])"
   ]
  },
  {
   "cell_type": "code",
   "execution_count": 12,
   "id": "general-particular",
   "metadata": {},
   "outputs": [
    {
     "name": "stderr",
     "output_type": "stream",
     "text": [
      "/home/diana/.local/lib/python3.9/site-packages/py4cytoscape/tables.py:474: SettingWithCopyWarning: \n",
      "A value is trying to be set on a copy of a slice from a DataFrame.\n",
      "Try using .loc[row_indexer,col_indexer] = value instead\n",
      "\n",
      "See the caveats in the documentation: https://pandas.pydata.org/pandas-docs/stable/user_guide/indexing.html#returning-a-view-versus-a-copy\n",
      "  data_subset[col] = col_val\n",
      "/home/diana/.local/lib/python3.9/site-packages/py4cytoscape/tables.py:474: SettingWithCopyWarning: \n",
      "A value is trying to be set on a copy of a slice from a DataFrame.\n",
      "Try using .loc[row_indexer,col_indexer] = value instead\n",
      "\n",
      "See the caveats in the documentation: https://pandas.pydata.org/pandas-docs/stable/user_guide/indexing.html#returning-a-view-versus-a-copy\n",
      "  data_subset[col] = col_val\n",
      "/home/diana/.local/lib/python3.9/site-packages/py4cytoscape/tables.py:474: SettingWithCopyWarning: \n",
      "A value is trying to be set on a copy of a slice from a DataFrame.\n",
      "Try using .loc[row_indexer,col_indexer] = value instead\n",
      "\n",
      "See the caveats in the documentation: https://pandas.pydata.org/pandas-docs/stable/user_guide/indexing.html#returning-a-view-versus-a-copy\n",
      "  data_subset[col] = col_val\n",
      "/home/diana/.local/lib/python3.9/site-packages/py4cytoscape/tables.py:474: SettingWithCopyWarning: \n",
      "A value is trying to be set on a copy of a slice from a DataFrame.\n",
      "Try using .loc[row_indexer,col_indexer] = value instead\n",
      "\n",
      "See the caveats in the documentation: https://pandas.pydata.org/pandas-docs/stable/user_guide/indexing.html#returning-a-view-versus-a-copy\n",
      "  data_subset[col] = col_val\n",
      "/home/diana/.local/lib/python3.9/site-packages/py4cytoscape/tables.py:474: SettingWithCopyWarning: \n",
      "A value is trying to be set on a copy of a slice from a DataFrame.\n",
      "Try using .loc[row_indexer,col_indexer] = value instead\n",
      "\n",
      "See the caveats in the documentation: https://pandas.pydata.org/pandas-docs/stable/user_guide/indexing.html#returning-a-view-versus-a-copy\n",
      "  data_subset[col] = col_val\n",
      "/home/diana/.local/lib/python3.9/site-packages/py4cytoscape/tables.py:474: SettingWithCopyWarning: \n",
      "A value is trying to be set on a copy of a slice from a DataFrame.\n",
      "Try using .loc[row_indexer,col_indexer] = value instead\n",
      "\n",
      "See the caveats in the documentation: https://pandas.pydata.org/pandas-docs/stable/user_guide/indexing.html#returning-a-view-versus-a-copy\n",
      "  data_subset[col] = col_val\n",
      "/home/diana/.local/lib/python3.9/site-packages/py4cytoscape/tables.py:474: SettingWithCopyWarning: \n",
      "A value is trying to be set on a copy of a slice from a DataFrame.\n",
      "Try using .loc[row_indexer,col_indexer] = value instead\n",
      "\n",
      "See the caveats in the documentation: https://pandas.pydata.org/pandas-docs/stable/user_guide/indexing.html#returning-a-view-versus-a-copy\n",
      "  data_subset[col] = col_val\n",
      "/home/diana/.local/lib/python3.9/site-packages/py4cytoscape/tables.py:474: SettingWithCopyWarning: \n",
      "A value is trying to be set on a copy of a slice from a DataFrame.\n",
      "Try using .loc[row_indexer,col_indexer] = value instead\n",
      "\n",
      "See the caveats in the documentation: https://pandas.pydata.org/pandas-docs/stable/user_guide/indexing.html#returning-a-view-versus-a-copy\n",
      "  data_subset[col] = col_val\n",
      "/home/diana/.local/lib/python3.9/site-packages/py4cytoscape/tables.py:474: SettingWithCopyWarning: \n",
      "A value is trying to be set on a copy of a slice from a DataFrame.\n",
      "Try using .loc[row_indexer,col_indexer] = value instead\n",
      "\n",
      "See the caveats in the documentation: https://pandas.pydata.org/pandas-docs/stable/user_guide/indexing.html#returning-a-view-versus-a-copy\n",
      "  data_subset[col] = col_val\n",
      "/home/diana/.local/lib/python3.9/site-packages/py4cytoscape/tables.py:474: SettingWithCopyWarning: \n",
      "A value is trying to be set on a copy of a slice from a DataFrame.\n",
      "Try using .loc[row_indexer,col_indexer] = value instead\n",
      "\n",
      "See the caveats in the documentation: https://pandas.pydata.org/pandas-docs/stable/user_guide/indexing.html#returning-a-view-versus-a-copy\n",
      "  data_subset[col] = col_val\n",
      "/home/diana/.local/lib/python3.9/site-packages/py4cytoscape/tables.py:474: SettingWithCopyWarning: \n",
      "A value is trying to be set on a copy of a slice from a DataFrame.\n",
      "Try using .loc[row_indexer,col_indexer] = value instead\n",
      "\n",
      "See the caveats in the documentation: https://pandas.pydata.org/pandas-docs/stable/user_guide/indexing.html#returning-a-view-versus-a-copy\n",
      "  data_subset[col] = col_val\n",
      "/home/diana/.local/lib/python3.9/site-packages/py4cytoscape/tables.py:474: SettingWithCopyWarning: \n",
      "A value is trying to be set on a copy of a slice from a DataFrame.\n",
      "Try using .loc[row_indexer,col_indexer] = value instead\n",
      "\n",
      "See the caveats in the documentation: https://pandas.pydata.org/pandas-docs/stable/user_guide/indexing.html#returning-a-view-versus-a-copy\n",
      "  data_subset[col] = col_val\n",
      "/home/diana/.local/lib/python3.9/site-packages/py4cytoscape/tables.py:474: SettingWithCopyWarning: \n",
      "A value is trying to be set on a copy of a slice from a DataFrame.\n",
      "Try using .loc[row_indexer,col_indexer] = value instead\n",
      "\n",
      "See the caveats in the documentation: https://pandas.pydata.org/pandas-docs/stable/user_guide/indexing.html#returning-a-view-versus-a-copy\n",
      "  data_subset[col] = col_val\n",
      "/home/diana/.local/lib/python3.9/site-packages/py4cytoscape/tables.py:474: SettingWithCopyWarning: \n",
      "A value is trying to be set on a copy of a slice from a DataFrame.\n",
      "Try using .loc[row_indexer,col_indexer] = value instead\n",
      "\n",
      "See the caveats in the documentation: https://pandas.pydata.org/pandas-docs/stable/user_guide/indexing.html#returning-a-view-versus-a-copy\n",
      "  data_subset[col] = col_val\n",
      "/home/diana/.local/lib/python3.9/site-packages/py4cytoscape/tables.py:474: SettingWithCopyWarning: \n",
      "A value is trying to be set on a copy of a slice from a DataFrame.\n",
      "Try using .loc[row_indexer,col_indexer] = value instead\n",
      "\n",
      "See the caveats in the documentation: https://pandas.pydata.org/pandas-docs/stable/user_guide/indexing.html#returning-a-view-versus-a-copy\n",
      "  data_subset[col] = col_val\n"
     ]
    }
   ],
   "source": [
    "loadCancerOnlyNetworks(tissues, ni)"
   ]
  },
  {
   "cell_type": "code",
   "execution_count": 15,
   "id": "floating-partition",
   "metadata": {},
   "outputs": [],
   "source": [
    "def loadNormalOnlyNetworks(ts, ni):\n",
    "    for t in ts:\n",
    "        p4c.sandbox_send_to(\"../regulaciontrans-data-server/pan-loss/exclusive_networks/\"+t+\"-normal_only-interactions-\"+ni+\".tsv\", t+\"_normal_\"+ni+\".tsv\") \n",
    "        net = p4c.import_network_from_tabular_file(t+\"_cancer_\"+ni+\".tsv\", first_row_as_column_names=True,\n",
    "                                         column_type_list = \"s,t,ea\") \n",
    "        vertices = pd.read_csv(\"../regulaciontrans-data-server/pan-loss/exclusive_networks/\"+t+\"-normal_only-vertices-\"+ni+\".tsv\",\n",
    "                              sep =\"\\t\")\n",
    "        vertices.rename(columns={'ensembl_id': 'name'}, inplace=True)\n",
    "        p4c.load_table_data(vertices, data_key_column=\"name\", network = net[\"networks\"][0])"
   ]
  },
  {
   "cell_type": "code",
   "execution_count": 17,
   "id": "proved-selection",
   "metadata": {},
   "outputs": [
    {
     "name": "stderr",
     "output_type": "stream",
     "text": [
      "/home/diana/.local/lib/python3.9/site-packages/py4cytoscape/tables.py:474: SettingWithCopyWarning: \n",
      "A value is trying to be set on a copy of a slice from a DataFrame.\n",
      "Try using .loc[row_indexer,col_indexer] = value instead\n",
      "\n",
      "See the caveats in the documentation: https://pandas.pydata.org/pandas-docs/stable/user_guide/indexing.html#returning-a-view-versus-a-copy\n",
      "  data_subset[col] = col_val\n",
      "/home/diana/.local/lib/python3.9/site-packages/py4cytoscape/tables.py:474: SettingWithCopyWarning: \n",
      "A value is trying to be set on a copy of a slice from a DataFrame.\n",
      "Try using .loc[row_indexer,col_indexer] = value instead\n",
      "\n",
      "See the caveats in the documentation: https://pandas.pydata.org/pandas-docs/stable/user_guide/indexing.html#returning-a-view-versus-a-copy\n",
      "  data_subset[col] = col_val\n",
      "/home/diana/.local/lib/python3.9/site-packages/py4cytoscape/tables.py:474: SettingWithCopyWarning: \n",
      "A value is trying to be set on a copy of a slice from a DataFrame.\n",
      "Try using .loc[row_indexer,col_indexer] = value instead\n",
      "\n",
      "See the caveats in the documentation: https://pandas.pydata.org/pandas-docs/stable/user_guide/indexing.html#returning-a-view-versus-a-copy\n",
      "  data_subset[col] = col_val\n",
      "/home/diana/.local/lib/python3.9/site-packages/py4cytoscape/tables.py:474: SettingWithCopyWarning: \n",
      "A value is trying to be set on a copy of a slice from a DataFrame.\n",
      "Try using .loc[row_indexer,col_indexer] = value instead\n",
      "\n",
      "See the caveats in the documentation: https://pandas.pydata.org/pandas-docs/stable/user_guide/indexing.html#returning-a-view-versus-a-copy\n",
      "  data_subset[col] = col_val\n",
      "/home/diana/.local/lib/python3.9/site-packages/py4cytoscape/tables.py:474: SettingWithCopyWarning: \n",
      "A value is trying to be set on a copy of a slice from a DataFrame.\n",
      "Try using .loc[row_indexer,col_indexer] = value instead\n",
      "\n",
      "See the caveats in the documentation: https://pandas.pydata.org/pandas-docs/stable/user_guide/indexing.html#returning-a-view-versus-a-copy\n",
      "  data_subset[col] = col_val\n",
      "/home/diana/.local/lib/python3.9/site-packages/py4cytoscape/tables.py:474: SettingWithCopyWarning: \n",
      "A value is trying to be set on a copy of a slice from a DataFrame.\n",
      "Try using .loc[row_indexer,col_indexer] = value instead\n",
      "\n",
      "See the caveats in the documentation: https://pandas.pydata.org/pandas-docs/stable/user_guide/indexing.html#returning-a-view-versus-a-copy\n",
      "  data_subset[col] = col_val\n",
      "/home/diana/.local/lib/python3.9/site-packages/py4cytoscape/tables.py:474: SettingWithCopyWarning: \n",
      "A value is trying to be set on a copy of a slice from a DataFrame.\n",
      "Try using .loc[row_indexer,col_indexer] = value instead\n",
      "\n",
      "See the caveats in the documentation: https://pandas.pydata.org/pandas-docs/stable/user_guide/indexing.html#returning-a-view-versus-a-copy\n",
      "  data_subset[col] = col_val\n",
      "/home/diana/.local/lib/python3.9/site-packages/py4cytoscape/tables.py:474: SettingWithCopyWarning: \n",
      "A value is trying to be set on a copy of a slice from a DataFrame.\n",
      "Try using .loc[row_indexer,col_indexer] = value instead\n",
      "\n",
      "See the caveats in the documentation: https://pandas.pydata.org/pandas-docs/stable/user_guide/indexing.html#returning-a-view-versus-a-copy\n",
      "  data_subset[col] = col_val\n",
      "/home/diana/.local/lib/python3.9/site-packages/py4cytoscape/tables.py:474: SettingWithCopyWarning: \n",
      "A value is trying to be set on a copy of a slice from a DataFrame.\n",
      "Try using .loc[row_indexer,col_indexer] = value instead\n",
      "\n",
      "See the caveats in the documentation: https://pandas.pydata.org/pandas-docs/stable/user_guide/indexing.html#returning-a-view-versus-a-copy\n",
      "  data_subset[col] = col_val\n",
      "/home/diana/.local/lib/python3.9/site-packages/py4cytoscape/tables.py:474: SettingWithCopyWarning: \n",
      "A value is trying to be set on a copy of a slice from a DataFrame.\n",
      "Try using .loc[row_indexer,col_indexer] = value instead\n",
      "\n",
      "See the caveats in the documentation: https://pandas.pydata.org/pandas-docs/stable/user_guide/indexing.html#returning-a-view-versus-a-copy\n",
      "  data_subset[col] = col_val\n",
      "/home/diana/.local/lib/python3.9/site-packages/py4cytoscape/tables.py:474: SettingWithCopyWarning: \n",
      "A value is trying to be set on a copy of a slice from a DataFrame.\n",
      "Try using .loc[row_indexer,col_indexer] = value instead\n",
      "\n",
      "See the caveats in the documentation: https://pandas.pydata.org/pandas-docs/stable/user_guide/indexing.html#returning-a-view-versus-a-copy\n",
      "  data_subset[col] = col_val\n",
      "/home/diana/.local/lib/python3.9/site-packages/py4cytoscape/tables.py:474: SettingWithCopyWarning: \n",
      "A value is trying to be set on a copy of a slice from a DataFrame.\n",
      "Try using .loc[row_indexer,col_indexer] = value instead\n",
      "\n",
      "See the caveats in the documentation: https://pandas.pydata.org/pandas-docs/stable/user_guide/indexing.html#returning-a-view-versus-a-copy\n",
      "  data_subset[col] = col_val\n",
      "/home/diana/.local/lib/python3.9/site-packages/py4cytoscape/tables.py:474: SettingWithCopyWarning: \n",
      "A value is trying to be set on a copy of a slice from a DataFrame.\n",
      "Try using .loc[row_indexer,col_indexer] = value instead\n",
      "\n",
      "See the caveats in the documentation: https://pandas.pydata.org/pandas-docs/stable/user_guide/indexing.html#returning-a-view-versus-a-copy\n",
      "  data_subset[col] = col_val\n",
      "/home/diana/.local/lib/python3.9/site-packages/py4cytoscape/tables.py:474: SettingWithCopyWarning: \n",
      "A value is trying to be set on a copy of a slice from a DataFrame.\n",
      "Try using .loc[row_indexer,col_indexer] = value instead\n",
      "\n",
      "See the caveats in the documentation: https://pandas.pydata.org/pandas-docs/stable/user_guide/indexing.html#returning-a-view-versus-a-copy\n",
      "  data_subset[col] = col_val\n"
     ]
    }
   ],
   "source": [
    "loadNormalOnlyNetworks(tissues, ni)"
   ]
  }
 ],
 "metadata": {
  "kernelspec": {
   "display_name": "Python 3",
   "language": "python",
   "name": "python3"
  },
  "language_info": {
   "codemirror_mode": {
    "name": "ipython",
    "version": 3
   },
   "file_extension": ".py",
   "mimetype": "text/x-python",
   "name": "python",
   "nbconvert_exporter": "python",
   "pygments_lexer": "ipython3",
   "version": "3.9.1"
  }
 },
 "nbformat": 4,
 "nbformat_minor": 5
}
