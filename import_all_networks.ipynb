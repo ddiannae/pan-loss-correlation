{
 "cells": [
  {
   "cell_type": "code",
   "execution_count": 1,
   "metadata": {},
   "outputs": [],
   "source": [
    "import pandas as pd\n",
    "import py4cytoscape as p4c\n",
    "import glob"
   ]
  },
  {
   "cell_type": "code",
   "execution_count": 2,
   "metadata": {},
   "outputs": [
    {
     "name": "stdout",
     "output_type": "stream",
     "text": [
      "You are connected to Cytoscape!\n"
     ]
    },
    {
     "data": {
      "text/plain": [
       "{'apiVersion': 'v1',\n",
       " 'cytoscapeVersion': '3.8.2',\n",
       " 'automationAPIVersion': '1.2.0',\n",
       " 'py4cytoscapeVersion': '0.0.9'}"
      ]
     },
     "execution_count": 2,
     "metadata": {},
     "output_type": "execute_result"
    }
   ],
   "source": [
    "p4c.cytoscape_ping()\n",
    "p4c.cytoscape_version_info()"
   ]
  },
  {
   "cell_type": "markdown",
   "metadata": {},
   "source": [
    "## Test con bladder"
   ]
  },
  {
   "cell_type": "code",
   "execution_count": 23,
   "metadata": {},
   "outputs": [
    {
     "data": {
      "text/plain": [
       "{'filePath': '/home/diana/CytoscapeConfiguration/filetransfer/default_sandbox/bladder_cancer.tsv'}"
      ]
     },
     "execution_count": 23,
     "metadata": {},
     "output_type": "execute_result"
    }
   ],
   "source": [
    "p4c.sandbox_send_to(\"../regulaciontrans-data-server/bladder/network_aracne/cancer-interactions-10000.tsv\", \"bladder_cancer.tsv\")"
   ]
  },
  {
   "cell_type": "code",
   "execution_count": 24,
   "metadata": {},
   "outputs": [],
   "source": [
    "net = p4c.import_network_from_tabular_file(\"bladder_cancer.tsv\", first_row_as_column_names=True,\n",
    "                                     column_type_list = \"s,t,ea,ea,ea,ea,ea\") "
   ]
  },
  {
   "cell_type": "code",
   "execution_count": 25,
   "metadata": {},
   "outputs": [],
   "source": [
    "vertices = pd.read_csv(\"../regulaciontrans-data-server/bladder/network_aracne/cancer-vertices-10000.tsv\", sep=\"\\t\")"
   ]
  },
  {
   "cell_type": "code",
   "execution_count": 26,
   "metadata": {},
   "outputs": [
    {
     "data": {
      "text/html": [
       "<div>\n",
       "<style scoped>\n",
       "    .dataframe tbody tr th:only-of-type {\n",
       "        vertical-align: middle;\n",
       "    }\n",
       "\n",
       "    .dataframe tbody tr th {\n",
       "        vertical-align: top;\n",
       "    }\n",
       "\n",
       "    .dataframe thead th {\n",
       "        text-align: right;\n",
       "    }\n",
       "</style>\n",
       "<table border=\"1\" class=\"dataframe\">\n",
       "  <thead>\n",
       "    <tr style=\"text-align: right;\">\n",
       "      <th></th>\n",
       "      <th>ensembl</th>\n",
       "      <th>chr</th>\n",
       "      <th>start</th>\n",
       "      <th>end</th>\n",
       "      <th>symbol</th>\n",
       "      <th>cytoband</th>\n",
       "    </tr>\n",
       "  </thead>\n",
       "  <tbody>\n",
       "    <tr>\n",
       "      <th>0</th>\n",
       "      <td>ENSG00000000460</td>\n",
       "      <td>1</td>\n",
       "      <td>169662007</td>\n",
       "      <td>169854080</td>\n",
       "      <td>C1orf112</td>\n",
       "      <td>q24.2</td>\n",
       "    </tr>\n",
       "    <tr>\n",
       "      <th>1</th>\n",
       "      <td>ENSG00000001631</td>\n",
       "      <td>7</td>\n",
       "      <td>92198969</td>\n",
       "      <td>92246166</td>\n",
       "      <td>KRIT1</td>\n",
       "      <td>q21.2</td>\n",
       "    </tr>\n",
       "    <tr>\n",
       "      <th>2</th>\n",
       "      <td>ENSG00000004534</td>\n",
       "      <td>3</td>\n",
       "      <td>49940007</td>\n",
       "      <td>50100045</td>\n",
       "      <td>RBM6</td>\n",
       "      <td>p21.31</td>\n",
       "    </tr>\n",
       "    <tr>\n",
       "      <th>3</th>\n",
       "      <td>ENSG00000005100</td>\n",
       "      <td>17</td>\n",
       "      <td>5440912</td>\n",
       "      <td>5469060</td>\n",
       "      <td>DHX33</td>\n",
       "      <td>p13.2</td>\n",
       "    </tr>\n",
       "    <tr>\n",
       "      <th>4</th>\n",
       "      <td>ENSG00000006744</td>\n",
       "      <td>17</td>\n",
       "      <td>12992391</td>\n",
       "      <td>13018187</td>\n",
       "      <td>ELAC2</td>\n",
       "      <td>p12</td>\n",
       "    </tr>\n",
       "  </tbody>\n",
       "</table>\n",
       "</div>"
      ],
      "text/plain": [
       "           ensembl chr      start        end    symbol cytoband\n",
       "0  ENSG00000000460   1  169662007  169854080  C1orf112    q24.2\n",
       "1  ENSG00000001631   7   92198969   92246166     KRIT1    q21.2\n",
       "2  ENSG00000004534   3   49940007   50100045      RBM6   p21.31\n",
       "3  ENSG00000005100  17    5440912    5469060     DHX33    p13.2\n",
       "4  ENSG00000006744  17   12992391   13018187     ELAC2      p12"
      ]
     },
     "execution_count": 26,
     "metadata": {},
     "output_type": "execute_result"
    }
   ],
   "source": [
    "vertices.head()"
   ]
  },
  {
   "cell_type": "code",
   "execution_count": 27,
   "metadata": {},
   "outputs": [],
   "source": [
    "vertices.rename(columns={'ensembl': 'name'}, inplace=True)"
   ]
  },
  {
   "cell_type": "code",
   "execution_count": 28,
   "metadata": {},
   "outputs": [
    {
     "data": {
      "text/plain": [
       "'Success: Data loaded in defaultnode table'"
      ]
     },
     "execution_count": 28,
     "metadata": {},
     "output_type": "execute_result"
    }
   ],
   "source": [
    "p4c.load_table_data(vertices, data_key_column=\"name\", network = net[\"networks\"][0])"
   ]
  },
  {
   "cell_type": "code",
   "execution_count": 29,
   "metadata": {},
   "outputs": [],
   "source": [
    "node_attrs = pd.read_csv(\"../regulaciontrans-data-server/bladder/network_aracne/cancer-node-attributes-10000.tsv\", sep=\"\\t\")"
   ]
  },
  {
   "cell_type": "code",
   "execution_count": 30,
   "metadata": {},
   "outputs": [
    {
     "data": {
      "text/plain": [
       "'Success: Data loaded in defaultnode table'"
      ]
     },
     "execution_count": 30,
     "metadata": {},
     "output_type": "execute_result"
    }
   ],
   "source": [
    "p4c.load_table_data(node_attrs, data_key_column=\"name\", network = net[\"networks\"][0])"
   ]
  },
  {
   "cell_type": "code",
   "execution_count": 31,
   "metadata": {},
   "outputs": [],
   "source": [
    "deg = pd.read_csv(glob.glob(\"../regulaciontrans-data-server/bladder/deg/*_*_*_si-arsyn_deg_results.tsv\")[0], sep=\"\\t\")"
   ]
  },
  {
   "cell_type": "code",
   "execution_count": 32,
   "metadata": {},
   "outputs": [],
   "source": [
    "deg.rename(columns={'ensembl_id': 'name'}, inplace=True)"
   ]
  },
  {
   "cell_type": "code",
   "execution_count": 33,
   "metadata": {},
   "outputs": [
    {
     "name": "stderr",
     "output_type": "stream",
     "text": [
      "/home/diana/.local/lib/python3.9/site-packages/py4cytoscape/tables.py:474: SettingWithCopyWarning: \n",
      "A value is trying to be set on a copy of a slice from a DataFrame.\n",
      "Try using .loc[row_indexer,col_indexer] = value instead\n",
      "\n",
      "See the caveats in the documentation: https://pandas.pydata.org/pandas-docs/stable/user_guide/indexing.html#returning-a-view-versus-a-copy\n",
      "  data_subset[col] = col_val\n"
     ]
    },
    {
     "data": {
      "text/plain": [
       "'Success: Data loaded in defaultnode table'"
      ]
     },
     "execution_count": 33,
     "metadata": {},
     "output_type": "execute_result"
    }
   ],
   "source": [
    "p4c.load_table_data(deg, data_key_column=\"name\", network = net[\"networks\"][0])"
   ]
  },
  {
   "cell_type": "code",
   "execution_count": 34,
   "metadata": {},
   "outputs": [],
   "source": [
    "interactions = pd.read_csv(\"../regulaciontrans-data-server/bladder/network_aracne/cancer-interactions-10000.tsv\", \n",
    "                          sep = \"\\t\")"
   ]
  },
  {
   "cell_type": "code",
   "execution_count": 35,
   "metadata": {},
   "outputs": [
    {
     "data": {
      "text/html": [
       "<div>\n",
       "<style scoped>\n",
       "    .dataframe tbody tr th:only-of-type {\n",
       "        vertical-align: middle;\n",
       "    }\n",
       "\n",
       "    .dataframe tbody tr th {\n",
       "        vertical-align: top;\n",
       "    }\n",
       "\n",
       "    .dataframe thead th {\n",
       "        text-align: right;\n",
       "    }\n",
       "</style>\n",
       "<table border=\"1\" class=\"dataframe\">\n",
       "  <thead>\n",
       "    <tr style=\"text-align: right;\">\n",
       "      <th></th>\n",
       "      <th>source_ensembl</th>\n",
       "      <th>target_ensembl</th>\n",
       "      <th>mi</th>\n",
       "      <th>distance</th>\n",
       "      <th>row_num</th>\n",
       "      <th>interaction_type</th>\n",
       "      <th>cond</th>\n",
       "    </tr>\n",
       "  </thead>\n",
       "  <tbody>\n",
       "    <tr>\n",
       "      <th>0</th>\n",
       "      <td>ENSG00000197903</td>\n",
       "      <td>ENSG00000276180</td>\n",
       "      <td>0.748817</td>\n",
       "      <td>7830</td>\n",
       "      <td>1</td>\n",
       "      <td>Intra</td>\n",
       "      <td>cancer</td>\n",
       "    </tr>\n",
       "    <tr>\n",
       "      <th>1</th>\n",
       "      <td>ENSG00000187583</td>\n",
       "      <td>ENSG00000187642</td>\n",
       "      <td>0.723436</td>\n",
       "      <td>8707</td>\n",
       "      <td>2</td>\n",
       "      <td>Intra</td>\n",
       "      <td>cancer</td>\n",
       "    </tr>\n",
       "    <tr>\n",
       "      <th>2</th>\n",
       "      <td>ENSG00000159189</td>\n",
       "      <td>ENSG00000173369</td>\n",
       "      <td>0.665461</td>\n",
       "      <td>9132</td>\n",
       "      <td>3</td>\n",
       "      <td>Intra</td>\n",
       "      <td>cancer</td>\n",
       "    </tr>\n",
       "    <tr>\n",
       "      <th>3</th>\n",
       "      <td>ENSG00000196866</td>\n",
       "      <td>ENSG00000197409</td>\n",
       "      <td>0.643737</td>\n",
       "      <td>2011</td>\n",
       "      <td>4</td>\n",
       "      <td>Intra</td>\n",
       "      <td>cancer</td>\n",
       "    </tr>\n",
       "    <tr>\n",
       "      <th>4</th>\n",
       "      <td>ENSG00000188536</td>\n",
       "      <td>ENSG00000244734</td>\n",
       "      <td>0.614236</td>\n",
       "      <td>-1</td>\n",
       "      <td>5</td>\n",
       "      <td>Inter</td>\n",
       "      <td>cancer</td>\n",
       "    </tr>\n",
       "  </tbody>\n",
       "</table>\n",
       "</div>"
      ],
      "text/plain": [
       "    source_ensembl   target_ensembl        mi  distance  row_num  \\\n",
       "0  ENSG00000197903  ENSG00000276180  0.748817      7830        1   \n",
       "1  ENSG00000187583  ENSG00000187642  0.723436      8707        2   \n",
       "2  ENSG00000159189  ENSG00000173369  0.665461      9132        3   \n",
       "3  ENSG00000196866  ENSG00000197409  0.643737      2011        4   \n",
       "4  ENSG00000188536  ENSG00000244734  0.614236        -1        5   \n",
       "\n",
       "  interaction_type    cond  \n",
       "0            Intra  cancer  \n",
       "1            Intra  cancer  \n",
       "2            Intra  cancer  \n",
       "3            Intra  cancer  \n",
       "4            Inter  cancer  "
      ]
     },
     "execution_count": 35,
     "metadata": {},
     "output_type": "execute_result"
    }
   ],
   "source": [
    "interactions.head()"
   ]
  },
  {
   "cell_type": "markdown",
   "metadata": {},
   "source": [
    "This way we can select a new collection for each network, to avoid setting the same deg attributes to a node in all networks"
   ]
  },
  {
   "cell_type": "code",
   "execution_count": 38,
   "metadata": {},
   "outputs": [
    {
     "name": "stdout",
     "output_type": "stream",
     "text": [
      "Applying default style...\n",
      "Applying preferred layout\n"
     ]
    },
    {
     "data": {
      "text/plain": [
       "{'networkSUID': 56759}"
      ]
     },
     "execution_count": 38,
     "metadata": {},
     "output_type": "execute_result"
    }
   ],
   "source": [
    "p4c.networks.create_network_from_data_frames(nodes = vertices,  edges = interactions, \n",
    "                                             node_id_list  = \"name\", \n",
    "                                             source_id_list = \"source_ensembl\", \n",
    "                                             target_id_list = \"target_ensembl\",\n",
    "                                             interaction_type_list = \"interaction_type\",\n",
    "                                            collection = \"bladder\", title=\"bladder\")"
   ]
  },
  {
   "cell_type": "markdown",
   "metadata": {},
   "source": [
    "## Todos los tejidos"
   ]
  },
  {
   "cell_type": "code",
   "execution_count": 5,
   "metadata": {},
   "outputs": [],
   "source": [
    "tissues = [\"bladder\", \"brain\", \"breast\", \"colorectal\", \"esophagus\",\n",
    "            \"kidney\", \"liver\", \"lung\", \"ovary\", \"pancreas\", \"prostate\",\n",
    "            \"testis\", \"thyroid\",\"skin\", \"uterus\"]"
   ]
  },
  {
   "cell_type": "markdown",
   "metadata": {},
   "source": [
    "## Cancer"
   ]
  },
  {
   "cell_type": "code",
   "execution_count": 4,
   "metadata": {},
   "outputs": [],
   "source": [
    "def loadCancerNetworks(ts, ni, newNet):\n",
    "    for t in ts:\n",
    "        print(\"Working with tissue: \" + t)\n",
    "        if newNet:\n",
    "            print(\"Reading interactions\\n\")\n",
    "            interactions = pd.read_csv(\"../regulaciontrans-data-server/\" + t \n",
    "                                       +\"/network_aracne/cancer-interactions-\" + ni + \".tsv\",\n",
    "                                       sep = \"\\t\") \n",
    "            print(\"Reading vertices\\n\")\n",
    "            vertices = pd.read_csv(\"../regulaciontrans-data-server/\"+t+\"/network_aracne/cancer-vertices-\"+ni+\".tsv\", sep=\"\\t\")\n",
    "            vertices.rename(columns={'ensembl': 'name'}, inplace=True)\n",
    "            print(\"Loading network\\n\")\n",
    "            net = p4c.networks.create_network_from_data_frames(nodes = vertices,  edges = interactions, \n",
    "                                                 node_id_list  = \"name\", \n",
    "                                                 source_id_list = \"source_ensembl\", \n",
    "                                                 target_id_list = \"target_ensembl\",\n",
    "                                                 interaction_type_list = \"interaction_type\",\n",
    "                                                collection = t,  title = t + \"_cancer\")\n",
    "        else:\n",
    "            suid = p4c.networks.get_network_suid(title = t + \"_cancer\")\n",
    "            print(\"Got network SUID\" + str(suid))\n",
    "            net = {\"networkSUID\": suid}\n",
    "        print(\"Setting node attributes\\n\")\n",
    "        #node_attrs = pd.read_csv(\"../regulaciontrans-data-server/\"+t+\"/network_aracne/cancer-node-attributes-\"+ni+\".tsv\", sep=\"\\t\")\n",
    "        #p4c.load_table_data(node_attrs, data_key_column=\"name\", network = net[\"networkSUID\"])\n",
    "        print(\"Setting deg info\\n\")\n",
    "        deg = pd.read_csv(glob.glob(\"../regulaciontrans-data-server/\"+t+\"/deg/*_*_*_si-arsyn_deg_results.tsv\")[0], sep=\"\\t\")\n",
    "        deg.rename(columns={'ensembl_id': 'name'}, inplace=True)\n",
    "        p4c.load_table_data(deg, data_key_column=\"name\", network = net[\"networkSUID\"])\n",
    "        #print(\"Setting node communities\\n\")\n",
    "        #comms = pd.read_csv(\"../regulaciontrans-data-server/\"+t+\"/network_aracne/communities/cancer-comm-all-louvain\"+ni+\".tsv\", sep=\"\\t\")\n",
    "        #comms.rename(columns={'ensembl': 'name'}, inplace=True)\n",
    "        #p4c.load_table_data(comms, data_key_column=\"name\", network = net[\"networkSUID\"])\n",
    "    "
   ]
  },
  {
   "cell_type": "code",
   "execution_count": 7,
   "metadata": {},
   "outputs": [
    {
     "name": "stdout",
     "output_type": "stream",
     "text": [
      "Working with tissue: bladder\n",
      "Got network SUID769309\n",
      "Setting node attributes\n",
      "\n",
      "Setting deg info\n",
      "\n"
     ]
    },
    {
     "name": "stderr",
     "output_type": "stream",
     "text": [
      "/home/diana/.local/lib/python3.9/site-packages/py4cytoscape/tables.py:474: SettingWithCopyWarning: \n",
      "A value is trying to be set on a copy of a slice from a DataFrame.\n",
      "Try using .loc[row_indexer,col_indexer] = value instead\n",
      "\n",
      "See the caveats in the documentation: https://pandas.pydata.org/pandas-docs/stable/user_guide/indexing.html#returning-a-view-versus-a-copy\n",
      "  data_subset[col] = col_val\n"
     ]
    },
    {
     "name": "stdout",
     "output_type": "stream",
     "text": [
      "Working with tissue: brain\n",
      "Got network SUID1424957\n",
      "Setting node attributes\n",
      "\n",
      "Setting deg info\n",
      "\n"
     ]
    },
    {
     "name": "stderr",
     "output_type": "stream",
     "text": [
      "/home/diana/.local/lib/python3.9/site-packages/py4cytoscape/tables.py:474: SettingWithCopyWarning: \n",
      "A value is trying to be set on a copy of a slice from a DataFrame.\n",
      "Try using .loc[row_indexer,col_indexer] = value instead\n",
      "\n",
      "See the caveats in the documentation: https://pandas.pydata.org/pandas-docs/stable/user_guide/indexing.html#returning-a-view-versus-a-copy\n",
      "  data_subset[col] = col_val\n"
     ]
    },
    {
     "name": "stdout",
     "output_type": "stream",
     "text": [
      "Working with tissue: breast\n",
      "Got network SUID1205071\n",
      "Setting node attributes\n",
      "\n",
      "Setting deg info\n",
      "\n"
     ]
    },
    {
     "name": "stderr",
     "output_type": "stream",
     "text": [
      "/home/diana/.local/lib/python3.9/site-packages/py4cytoscape/tables.py:474: SettingWithCopyWarning: \n",
      "A value is trying to be set on a copy of a slice from a DataFrame.\n",
      "Try using .loc[row_indexer,col_indexer] = value instead\n",
      "\n",
      "See the caveats in the documentation: https://pandas.pydata.org/pandas-docs/stable/user_guide/indexing.html#returning-a-view-versus-a-copy\n",
      "  data_subset[col] = col_val\n"
     ]
    },
    {
     "name": "stdout",
     "output_type": "stream",
     "text": [
      "Working with tissue: colorectal\n",
      "Got network SUID440158\n",
      "Setting node attributes\n",
      "\n",
      "Setting deg info\n",
      "\n"
     ]
    },
    {
     "name": "stderr",
     "output_type": "stream",
     "text": [
      "/home/diana/.local/lib/python3.9/site-packages/py4cytoscape/tables.py:474: SettingWithCopyWarning: \n",
      "A value is trying to be set on a copy of a slice from a DataFrame.\n",
      "Try using .loc[row_indexer,col_indexer] = value instead\n",
      "\n",
      "See the caveats in the documentation: https://pandas.pydata.org/pandas-docs/stable/user_guide/indexing.html#returning-a-view-versus-a-copy\n",
      "  data_subset[col] = col_val\n"
     ]
    },
    {
     "name": "stdout",
     "output_type": "stream",
     "text": [
      "Working with tissue: esophagus\n",
      "Got network SUID1533741\n",
      "Setting node attributes\n",
      "\n",
      "Setting deg info\n",
      "\n"
     ]
    },
    {
     "name": "stderr",
     "output_type": "stream",
     "text": [
      "/home/diana/.local/lib/python3.9/site-packages/py4cytoscape/tables.py:474: SettingWithCopyWarning: \n",
      "A value is trying to be set on a copy of a slice from a DataFrame.\n",
      "Try using .loc[row_indexer,col_indexer] = value instead\n",
      "\n",
      "See the caveats in the documentation: https://pandas.pydata.org/pandas-docs/stable/user_guide/indexing.html#returning-a-view-versus-a-copy\n",
      "  data_subset[col] = col_val\n"
     ]
    },
    {
     "name": "stdout",
     "output_type": "stream",
     "text": [
      "Working with tissue: kidney\n",
      "Got network SUID110223\n",
      "Setting node attributes\n",
      "\n",
      "Setting deg info\n",
      "\n"
     ]
    },
    {
     "name": "stderr",
     "output_type": "stream",
     "text": [
      "/home/diana/.local/lib/python3.9/site-packages/py4cytoscape/tables.py:474: SettingWithCopyWarning: \n",
      "A value is trying to be set on a copy of a slice from a DataFrame.\n",
      "Try using .loc[row_indexer,col_indexer] = value instead\n",
      "\n",
      "See the caveats in the documentation: https://pandas.pydata.org/pandas-docs/stable/user_guide/indexing.html#returning-a-view-versus-a-copy\n",
      "  data_subset[col] = col_val\n"
     ]
    },
    {
     "name": "stdout",
     "output_type": "stream",
     "text": [
      "Working with tissue: liver\n",
      "Got network SUID659786\n",
      "Setting node attributes\n",
      "\n",
      "Setting deg info\n",
      "\n"
     ]
    },
    {
     "name": "stderr",
     "output_type": "stream",
     "text": [
      "/home/diana/.local/lib/python3.9/site-packages/py4cytoscape/tables.py:474: SettingWithCopyWarning: \n",
      "A value is trying to be set on a copy of a slice from a DataFrame.\n",
      "Try using .loc[row_indexer,col_indexer] = value instead\n",
      "\n",
      "See the caveats in the documentation: https://pandas.pydata.org/pandas-docs/stable/user_guide/indexing.html#returning-a-view-versus-a-copy\n",
      "  data_subset[col] = col_val\n"
     ]
    },
    {
     "name": "stdout",
     "output_type": "stream",
     "text": [
      "Working with tissue: lung\n",
      "Got network SUID51\n",
      "Setting node attributes\n",
      "\n",
      "Setting deg info\n",
      "\n"
     ]
    },
    {
     "name": "stderr",
     "output_type": "stream",
     "text": [
      "/home/diana/.local/lib/python3.9/site-packages/py4cytoscape/tables.py:474: SettingWithCopyWarning: \n",
      "A value is trying to be set on a copy of a slice from a DataFrame.\n",
      "Try using .loc[row_indexer,col_indexer] = value instead\n",
      "\n",
      "See the caveats in the documentation: https://pandas.pydata.org/pandas-docs/stable/user_guide/indexing.html#returning-a-view-versus-a-copy\n",
      "  data_subset[col] = col_val\n"
     ]
    },
    {
     "name": "stdout",
     "output_type": "stream",
     "text": [
      "Working with tissue: ovary\n",
      "Got network SUID987429\n",
      "Setting node attributes\n",
      "\n",
      "Setting deg info\n",
      "\n"
     ]
    },
    {
     "name": "stderr",
     "output_type": "stream",
     "text": [
      "/home/diana/.local/lib/python3.9/site-packages/py4cytoscape/tables.py:474: SettingWithCopyWarning: \n",
      "A value is trying to be set on a copy of a slice from a DataFrame.\n",
      "Try using .loc[row_indexer,col_indexer] = value instead\n",
      "\n",
      "See the caveats in the documentation: https://pandas.pydata.org/pandas-docs/stable/user_guide/indexing.html#returning-a-view-versus-a-copy\n",
      "  data_subset[col] = col_val\n"
     ]
    },
    {
     "name": "stdout",
     "output_type": "stream",
     "text": [
      "Working with tissue: pancreas\n",
      "Got network SUID1315262\n",
      "Setting node attributes\n",
      "\n",
      "Setting deg info\n",
      "\n"
     ]
    },
    {
     "name": "stderr",
     "output_type": "stream",
     "text": [
      "/home/diana/.local/lib/python3.9/site-packages/py4cytoscape/tables.py:474: SettingWithCopyWarning: \n",
      "A value is trying to be set on a copy of a slice from a DataFrame.\n",
      "Try using .loc[row_indexer,col_indexer] = value instead\n",
      "\n",
      "See the caveats in the documentation: https://pandas.pydata.org/pandas-docs/stable/user_guide/indexing.html#returning-a-view-versus-a-copy\n",
      "  data_subset[col] = col_val\n"
     ]
    },
    {
     "name": "stdout",
     "output_type": "stream",
     "text": [
      "Working with tissue: prostate\n",
      "Got network SUID878748\n",
      "Setting node attributes\n",
      "\n",
      "Setting deg info\n",
      "\n"
     ]
    },
    {
     "name": "stderr",
     "output_type": "stream",
     "text": [
      "/home/diana/.local/lib/python3.9/site-packages/py4cytoscape/tables.py:474: SettingWithCopyWarning: \n",
      "A value is trying to be set on a copy of a slice from a DataFrame.\n",
      "Try using .loc[row_indexer,col_indexer] = value instead\n",
      "\n",
      "See the caveats in the documentation: https://pandas.pydata.org/pandas-docs/stable/user_guide/indexing.html#returning-a-view-versus-a-copy\n",
      "  data_subset[col] = col_val\n"
     ]
    },
    {
     "name": "stdout",
     "output_type": "stream",
     "text": [
      "Working with tissue: testis\n",
      "Got network SUID549586\n",
      "Setting node attributes\n",
      "\n",
      "Setting deg info\n",
      "\n"
     ]
    },
    {
     "name": "stderr",
     "output_type": "stream",
     "text": [
      "/home/diana/.local/lib/python3.9/site-packages/py4cytoscape/tables.py:474: SettingWithCopyWarning: \n",
      "A value is trying to be set on a copy of a slice from a DataFrame.\n",
      "Try using .loc[row_indexer,col_indexer] = value instead\n",
      "\n",
      "See the caveats in the documentation: https://pandas.pydata.org/pandas-docs/stable/user_guide/indexing.html#returning-a-view-versus-a-copy\n",
      "  data_subset[col] = col_val\n"
     ]
    },
    {
     "name": "stdout",
     "output_type": "stream",
     "text": [
      "Working with tissue: thyroid\n",
      "Got network SUID329863\n",
      "Setting node attributes\n",
      "\n",
      "Setting deg info\n",
      "\n"
     ]
    },
    {
     "name": "stderr",
     "output_type": "stream",
     "text": [
      "/home/diana/.local/lib/python3.9/site-packages/py4cytoscape/tables.py:474: SettingWithCopyWarning: \n",
      "A value is trying to be set on a copy of a slice from a DataFrame.\n",
      "Try using .loc[row_indexer,col_indexer] = value instead\n",
      "\n",
      "See the caveats in the documentation: https://pandas.pydata.org/pandas-docs/stable/user_guide/indexing.html#returning-a-view-versus-a-copy\n",
      "  data_subset[col] = col_val\n"
     ]
    },
    {
     "name": "stdout",
     "output_type": "stream",
     "text": [
      "Working with tissue: skin\n",
      "Got network SUID1095194\n",
      "Setting node attributes\n",
      "\n",
      "Setting deg info\n",
      "\n"
     ]
    },
    {
     "name": "stderr",
     "output_type": "stream",
     "text": [
      "/home/diana/.local/lib/python3.9/site-packages/py4cytoscape/tables.py:474: SettingWithCopyWarning: \n",
      "A value is trying to be set on a copy of a slice from a DataFrame.\n",
      "Try using .loc[row_indexer,col_indexer] = value instead\n",
      "\n",
      "See the caveats in the documentation: https://pandas.pydata.org/pandas-docs/stable/user_guide/indexing.html#returning-a-view-versus-a-copy\n",
      "  data_subset[col] = col_val\n"
     ]
    },
    {
     "name": "stdout",
     "output_type": "stream",
     "text": [
      "Working with tissue: uterus\n",
      "Got network SUID219871\n",
      "Setting node attributes\n",
      "\n",
      "Setting deg info\n",
      "\n"
     ]
    },
    {
     "name": "stderr",
     "output_type": "stream",
     "text": [
      "/home/diana/.local/lib/python3.9/site-packages/py4cytoscape/tables.py:474: SettingWithCopyWarning: \n",
      "A value is trying to be set on a copy of a slice from a DataFrame.\n",
      "Try using .loc[row_indexer,col_indexer] = value instead\n",
      "\n",
      "See the caveats in the documentation: https://pandas.pydata.org/pandas-docs/stable/user_guide/indexing.html#returning-a-view-versus-a-copy\n",
      "  data_subset[col] = col_val\n"
     ]
    }
   ],
   "source": [
    "loadCancerNetworks(tissues, \"10000\", False)"
   ]
  },
  {
   "cell_type": "code",
   "execution_count": 4,
   "metadata": {},
   "outputs": [],
   "source": [
    "def loadNormalNetworks(ts, ni, newNet):\n",
    "    for t in ts:\n",
    "        print(\"Working with tissue: \" + t)\n",
    "        if newNet:\n",
    "            print(\"Reading interactions\\n\")\n",
    "            interactions = pd.read_csv(\"../regulaciontrans-data-server/\" + t \n",
    "                                   +\"/network_aracne/normal-interactions-\" + ni + \".tsv\",\n",
    "                                   sep = \"\\t\") \n",
    "            print(\"Reading vertices\\n\")\n",
    "            vertices = pd.read_csv(\"../regulaciontrans-data-server/\"+t+\"/network_aracne/normal-vertices-\"+ni+\".tsv\", sep=\"\\t\")\n",
    "            vertices.rename(columns={'ensembl': 'name'}, inplace=True)\n",
    "            print(\"Loading network\\n\")\n",
    "            net = p4c.networks.create_network_from_data_frames(nodes = vertices,  edges = interactions, \n",
    "                                                 node_id_list  = \"name\", \n",
    "                                             source_id_list = \"source_ensembl\", \n",
    "                                             target_id_list = \"target_ensembl\",\n",
    "                                             interaction_type_list = \"interaction_type\",\n",
    "                                            collection = t,  title = t + \"_normal\")\n",
    "        \n",
    "        else:\n",
    "            suid = p4c.networks.get_network_suid(title = t + \"_normal\")\n",
    "            print(\"Got network SUID\" + str(suid))\n",
    "            net = {\"networkSUID\": suid}\n",
    "            print(\"Setting node attributes\\n\")\n",
    "            node_attrs = pd.read_csv(\"../regulaciontrans-data-server/\"+t+\"/network_aracne/normal-node-attributes-\"+ni+\".tsv\", sep=\"\\t\")\n",
    "            p4c.load_table_data(node_attrs, data_key_column=\"name\", network = net[\"networkSUID\"])\n",
    "            comms = pd.read_csv(\"../regulaciontrans-data-server/\"+t+\"/network_aracne/communities/normal-comm-all-\"+ni+\".tsv\", sep=\"\\t\")\n",
    "            comms.rename(columns={'ensembl': 'name'}, inplace=True)\n",
    "            p4c.load_table_data(comms, data_key_column=\"name\", network = net[\"networkSUID\"])"
   ]
  },
  {
   "cell_type": "code",
   "execution_count": 7,
   "metadata": {},
   "outputs": [
    {
     "name": "stdout",
     "output_type": "stream",
     "text": [
      "Applying default style...\n",
      "Applying preferred layout\n",
      "Applying default style...\n",
      "Applying preferred layout\n",
      "Applying default style...\n",
      "Applying preferred layout\n",
      "Applying default style...\n",
      "Applying preferred layout\n",
      "Applying default style...\n",
      "Applying preferred layout\n",
      "Applying default style...\n",
      "Applying preferred layout\n",
      "Applying default style...\n",
      "Applying preferred layout\n",
      "Applying default style...\n",
      "Applying preferred layout\n",
      "Applying default style...\n",
      "Applying preferred layout\n",
      "Applying default style...\n",
      "Applying preferred layout\n",
      "Applying default style...\n",
      "Applying preferred layout\n",
      "Applying default style...\n",
      "Applying preferred layout\n",
      "Applying default style...\n",
      "Applying preferred layout\n",
      "Applying default style...\n",
      "Applying preferred layout\n",
      "Applying default style...\n",
      "Applying preferred layout\n"
     ]
    }
   ],
   "source": [
    "loadNormalNetworks(tissues, \"10000\")"
   ]
  },
  {
   "cell_type": "markdown",
   "metadata": {},
   "source": [
    "### The viewTreshold value in Cytoscape must be changed in cytoscape to load 100k networks."
   ]
  },
  {
   "cell_type": "code",
   "execution_count": 14,
   "metadata": {},
   "outputs": [
    {
     "name": "stdout",
     "output_type": "stream",
     "text": [
      "Working with tissue: bladder\n",
      "Got network SUID763521\n",
      "Setting node attributes\n",
      "\n",
      "Setting deg info\n",
      "\n"
     ]
    },
    {
     "name": "stderr",
     "output_type": "stream",
     "text": [
      "/home/diana/.local/lib/python3.9/site-packages/py4cytoscape/tables.py:474: SettingWithCopyWarning: \n",
      "A value is trying to be set on a copy of a slice from a DataFrame.\n",
      "Try using .loc[row_indexer,col_indexer] = value instead\n",
      "\n",
      "See the caveats in the documentation: https://pandas.pydata.org/pandas-docs/stable/user_guide/indexing.html#returning-a-view-versus-a-copy\n",
      "  data_subset[col] = col_val\n"
     ]
    },
    {
     "name": "stdout",
     "output_type": "stream",
     "text": [
      "Setting node communities\n",
      "\n",
      "Working with tissue: brain\n",
      "Got network SUID654757\n",
      "Setting node attributes\n",
      "\n",
      "Setting deg info\n",
      "\n"
     ]
    },
    {
     "name": "stderr",
     "output_type": "stream",
     "text": [
      "/home/diana/.local/lib/python3.9/site-packages/py4cytoscape/tables.py:474: SettingWithCopyWarning: \n",
      "A value is trying to be set on a copy of a slice from a DataFrame.\n",
      "Try using .loc[row_indexer,col_indexer] = value instead\n",
      "\n",
      "See the caveats in the documentation: https://pandas.pydata.org/pandas-docs/stable/user_guide/indexing.html#returning-a-view-versus-a-copy\n",
      "  data_subset[col] = col_val\n"
     ]
    },
    {
     "name": "stdout",
     "output_type": "stream",
     "text": [
      "Setting node communities\n",
      "\n",
      "Working with tissue: breast\n",
      "Got network SUID1312797\n",
      "Setting node attributes\n",
      "\n",
      "Setting deg info\n",
      "\n"
     ]
    },
    {
     "name": "stderr",
     "output_type": "stream",
     "text": [
      "/home/diana/.local/lib/python3.9/site-packages/py4cytoscape/tables.py:474: SettingWithCopyWarning: \n",
      "A value is trying to be set on a copy of a slice from a DataFrame.\n",
      "Try using .loc[row_indexer,col_indexer] = value instead\n",
      "\n",
      "See the caveats in the documentation: https://pandas.pydata.org/pandas-docs/stable/user_guide/indexing.html#returning-a-view-versus-a-copy\n",
      "  data_subset[col] = col_val\n"
     ]
    },
    {
     "name": "stdout",
     "output_type": "stream",
     "text": [
      "Setting node communities\n",
      "\n",
      "Working with tissue: colorectal\n",
      "Got network SUID1533263\n",
      "Setting node attributes\n",
      "\n",
      "Setting deg info\n",
      "\n"
     ]
    },
    {
     "name": "stderr",
     "output_type": "stream",
     "text": [
      "/home/diana/.local/lib/python3.9/site-packages/py4cytoscape/tables.py:474: SettingWithCopyWarning: \n",
      "A value is trying to be set on a copy of a slice from a DataFrame.\n",
      "Try using .loc[row_indexer,col_indexer] = value instead\n",
      "\n",
      "See the caveats in the documentation: https://pandas.pydata.org/pandas-docs/stable/user_guide/indexing.html#returning-a-view-versus-a-copy\n",
      "  data_subset[col] = col_val\n"
     ]
    },
    {
     "name": "stdout",
     "output_type": "stream",
     "text": [
      "Setting node communities\n",
      "\n",
      "Working with tissue: esophagus\n",
      "Got network SUID435929\n",
      "Setting node attributes\n",
      "\n",
      "Setting deg info\n",
      "\n"
     ]
    },
    {
     "name": "stderr",
     "output_type": "stream",
     "text": [
      "/home/diana/.local/lib/python3.9/site-packages/py4cytoscape/tables.py:474: SettingWithCopyWarning: \n",
      "A value is trying to be set on a copy of a slice from a DataFrame.\n",
      "Try using .loc[row_indexer,col_indexer] = value instead\n",
      "\n",
      "See the caveats in the documentation: https://pandas.pydata.org/pandas-docs/stable/user_guide/indexing.html#returning-a-view-versus-a-copy\n",
      "  data_subset[col] = col_val\n"
     ]
    },
    {
     "name": "stdout",
     "output_type": "stream",
     "text": [
      "Setting node communities\n",
      "\n",
      "Working with tissue: kidney\n",
      "Got network SUID1203159\n",
      "Setting node attributes\n",
      "\n",
      "Setting deg info\n",
      "\n"
     ]
    },
    {
     "name": "stderr",
     "output_type": "stream",
     "text": [
      "/home/diana/.local/lib/python3.9/site-packages/py4cytoscape/tables.py:474: SettingWithCopyWarning: \n",
      "A value is trying to be set on a copy of a slice from a DataFrame.\n",
      "Try using .loc[row_indexer,col_indexer] = value instead\n",
      "\n",
      "See the caveats in the documentation: https://pandas.pydata.org/pandas-docs/stable/user_guide/indexing.html#returning-a-view-versus-a-copy\n",
      "  data_subset[col] = col_val\n"
     ]
    },
    {
     "name": "stdout",
     "output_type": "stream",
     "text": [
      "Setting node communities\n",
      "\n",
      "Working with tissue: liver\n",
      "Got network SUID218671\n",
      "Setting node attributes\n",
      "\n",
      "Setting deg info\n",
      "\n"
     ]
    },
    {
     "name": "stderr",
     "output_type": "stream",
     "text": [
      "/home/diana/.local/lib/python3.9/site-packages/py4cytoscape/tables.py:474: SettingWithCopyWarning: \n",
      "A value is trying to be set on a copy of a slice from a DataFrame.\n",
      "Try using .loc[row_indexer,col_indexer] = value instead\n",
      "\n",
      "See the caveats in the documentation: https://pandas.pydata.org/pandas-docs/stable/user_guide/indexing.html#returning-a-view-versus-a-copy\n",
      "  data_subset[col] = col_val\n"
     ]
    },
    {
     "name": "stdout",
     "output_type": "stream",
     "text": [
      "Setting node communities\n",
      "\n",
      "Working with tissue: lung\n",
      "Got network SUID1093017\n",
      "Setting node attributes\n",
      "\n",
      "Setting deg info\n",
      "\n"
     ]
    },
    {
     "name": "stderr",
     "output_type": "stream",
     "text": [
      "/home/diana/.local/lib/python3.9/site-packages/py4cytoscape/tables.py:474: SettingWithCopyWarning: \n",
      "A value is trying to be set on a copy of a slice from a DataFrame.\n",
      "Try using .loc[row_indexer,col_indexer] = value instead\n",
      "\n",
      "See the caveats in the documentation: https://pandas.pydata.org/pandas-docs/stable/user_guide/indexing.html#returning-a-view-versus-a-copy\n",
      "  data_subset[col] = col_val\n"
     ]
    },
    {
     "name": "stdout",
     "output_type": "stream",
     "text": [
      "Setting node communities\n",
      "\n",
      "Working with tissue: ovary\n",
      "Got network SUID328174\n",
      "Setting node attributes\n",
      "\n",
      "Setting deg info\n",
      "\n"
     ]
    },
    {
     "name": "stderr",
     "output_type": "stream",
     "text": [
      "/home/diana/.local/lib/python3.9/site-packages/py4cytoscape/tables.py:474: SettingWithCopyWarning: \n",
      "A value is trying to be set on a copy of a slice from a DataFrame.\n",
      "Try using .loc[row_indexer,col_indexer] = value instead\n",
      "\n",
      "See the caveats in the documentation: https://pandas.pydata.org/pandas-docs/stable/user_guide/indexing.html#returning-a-view-versus-a-copy\n",
      "  data_subset[col] = col_val\n"
     ]
    },
    {
     "name": "stdout",
     "output_type": "stream",
     "text": [
      "Setting node communities\n",
      "\n",
      "Working with tissue: pancreas\n",
      "Got network SUID545072\n",
      "Setting node attributes\n",
      "\n",
      "Setting deg info\n",
      "\n"
     ]
    },
    {
     "name": "stderr",
     "output_type": "stream",
     "text": [
      "/home/diana/.local/lib/python3.9/site-packages/py4cytoscape/tables.py:474: SettingWithCopyWarning: \n",
      "A value is trying to be set on a copy of a slice from a DataFrame.\n",
      "Try using .loc[row_indexer,col_indexer] = value instead\n",
      "\n",
      "See the caveats in the documentation: https://pandas.pydata.org/pandas-docs/stable/user_guide/indexing.html#returning-a-view-versus-a-copy\n",
      "  data_subset[col] = col_val\n"
     ]
    },
    {
     "name": "stdout",
     "output_type": "stream",
     "text": [
      "Setting node communities\n",
      "\n",
      "Working with tissue: prostate\n",
      "Got network SUID110000\n",
      "Setting node attributes\n",
      "\n",
      "Setting deg info\n",
      "\n"
     ]
    },
    {
     "name": "stderr",
     "output_type": "stream",
     "text": [
      "/home/diana/.local/lib/python3.9/site-packages/py4cytoscape/tables.py:474: SettingWithCopyWarning: \n",
      "A value is trying to be set on a copy of a slice from a DataFrame.\n",
      "Try using .loc[row_indexer,col_indexer] = value instead\n",
      "\n",
      "See the caveats in the documentation: https://pandas.pydata.org/pandas-docs/stable/user_guide/indexing.html#returning-a-view-versus-a-copy\n",
      "  data_subset[col] = col_val\n"
     ]
    },
    {
     "name": "stdout",
     "output_type": "stream",
     "text": [
      "Setting node communities\n",
      "\n",
      "Working with tissue: testis\n",
      "Got network SUID982817\n",
      "Setting node attributes\n",
      "\n",
      "Setting deg info\n",
      "\n"
     ]
    },
    {
     "name": "stderr",
     "output_type": "stream",
     "text": [
      "/home/diana/.local/lib/python3.9/site-packages/py4cytoscape/tables.py:474: SettingWithCopyWarning: \n",
      "A value is trying to be set on a copy of a slice from a DataFrame.\n",
      "Try using .loc[row_indexer,col_indexer] = value instead\n",
      "\n",
      "See the caveats in the documentation: https://pandas.pydata.org/pandas-docs/stable/user_guide/indexing.html#returning-a-view-versus-a-copy\n",
      "  data_subset[col] = col_val\n"
     ]
    },
    {
     "name": "stdout",
     "output_type": "stream",
     "text": [
      "Setting node communities\n",
      "\n",
      "Working with tissue: thyroid\n",
      "Got network SUID1422978\n",
      "Setting node attributes\n",
      "\n",
      "Setting deg info\n",
      "\n"
     ]
    },
    {
     "name": "stderr",
     "output_type": "stream",
     "text": [
      "/home/diana/.local/lib/python3.9/site-packages/py4cytoscape/tables.py:474: SettingWithCopyWarning: \n",
      "A value is trying to be set on a copy of a slice from a DataFrame.\n",
      "Try using .loc[row_indexer,col_indexer] = value instead\n",
      "\n",
      "See the caveats in the documentation: https://pandas.pydata.org/pandas-docs/stable/user_guide/indexing.html#returning-a-view-versus-a-copy\n",
      "  data_subset[col] = col_val\n"
     ]
    },
    {
     "name": "stdout",
     "output_type": "stream",
     "text": [
      "Setting node communities\n",
      "\n",
      "Working with tissue: skin\n",
      "Got network SUID872950\n",
      "Setting node attributes\n",
      "\n",
      "Setting deg info\n",
      "\n"
     ]
    },
    {
     "name": "stderr",
     "output_type": "stream",
     "text": [
      "/home/diana/.local/lib/python3.9/site-packages/py4cytoscape/tables.py:474: SettingWithCopyWarning: \n",
      "A value is trying to be set on a copy of a slice from a DataFrame.\n",
      "Try using .loc[row_indexer,col_indexer] = value instead\n",
      "\n",
      "See the caveats in the documentation: https://pandas.pydata.org/pandas-docs/stable/user_guide/indexing.html#returning-a-view-versus-a-copy\n",
      "  data_subset[col] = col_val\n"
     ]
    },
    {
     "name": "stdout",
     "output_type": "stream",
     "text": [
      "Setting node communities\n",
      "\n",
      "Working with tissue: uterus\n",
      "Got network SUID18\n",
      "Setting node attributes\n",
      "\n",
      "Setting deg info\n",
      "\n"
     ]
    },
    {
     "name": "stderr",
     "output_type": "stream",
     "text": [
      "/home/diana/.local/lib/python3.9/site-packages/py4cytoscape/tables.py:474: SettingWithCopyWarning: \n",
      "A value is trying to be set on a copy of a slice from a DataFrame.\n",
      "Try using .loc[row_indexer,col_indexer] = value instead\n",
      "\n",
      "See the caveats in the documentation: https://pandas.pydata.org/pandas-docs/stable/user_guide/indexing.html#returning-a-view-versus-a-copy\n",
      "  data_subset[col] = col_val\n"
     ]
    },
    {
     "name": "stdout",
     "output_type": "stream",
     "text": [
      "Setting node communities\n",
      "\n"
     ]
    }
   ],
   "source": [
    "loadCancerNetworks(tissues, \"100000\", False)"
   ]
  },
  {
   "cell_type": "code",
   "execution_count": 37,
   "metadata": {},
   "outputs": [
    {
     "name": "stdout",
     "output_type": "stream",
     "text": [
      "Working with tissue: bladder\n",
      "Got network SUID51\n",
      "Setting node attributes\n",
      "\n",
      "Working with tissue: brain\n",
      "Got network SUID226520\n",
      "Setting node attributes\n",
      "\n",
      "Working with tissue: breast\n",
      "Got network SUID444341\n",
      "Setting node attributes\n",
      "\n",
      "Working with tissue: colorectal\n",
      "Got network SUID668172\n",
      "Setting node attributes\n",
      "\n",
      "Working with tissue: esophagus\n",
      "Got network SUID893689\n",
      "Setting node attributes\n",
      "\n",
      "Working with tissue: kidney\n",
      "Got network SUID1110366\n",
      "Setting node attributes\n",
      "\n",
      "Working with tissue: liver\n",
      "Got network SUID1332303\n",
      "Setting node attributes\n",
      "\n",
      "Working with tissue: lung\n",
      "Got network SUID1557166\n",
      "Setting node attributes\n",
      "\n",
      "Working with tissue: ovary\n",
      "Got network SUID1782131\n",
      "Setting node attributes\n",
      "\n",
      "Working with tissue: pancreas\n",
      "Got network SUID2216441\n",
      "Setting node attributes\n",
      "\n",
      "Working with tissue: prostate\n",
      "Got network SUID2432582\n",
      "Setting node attributes\n",
      "\n",
      "Working with tissue: testis\n",
      "Got network SUID2651837\n",
      "Setting node attributes\n",
      "\n",
      "Working with tissue: thyroid\n",
      "Got network SUID2865514\n",
      "Setting node attributes\n",
      "\n",
      "Working with tissue: skin\n",
      "Got network SUID3093731\n",
      "Setting node attributes\n",
      "\n",
      "Working with tissue: uterus\n",
      "Got network SUID3308498\n",
      "Setting node attributes\n",
      "\n"
     ]
    }
   ],
   "source": [
    "loadNormalNetworks(tissues, \"100000\", False)"
   ]
  },
  {
   "cell_type": "code",
   "execution_count": 3,
   "metadata": {},
   "outputs": [],
   "source": [
    "def loadEdgesInfo(ts, ni):\n",
    "    for t in ts:\n",
    "        print(\"Working with tissue: \" + t)\n",
    "        print(\"Reading interactions\\n\")\n",
    "        interactions = pd.read_csv(\"../regulaciontrans-data-server/\" + t \n",
    "                                   +\"/network_aracne/cancer-interactions-\" + ni + \".tsv\",\n",
    "                                   sep = \"\\t\")\n",
    "        suid = p4c.networks.get_network_suid(title = t + \"_cancer\")\n",
    "        print(\"Got network SUID\" + str(suid))\n",
    "        net = {\"networkSUID\": suid}\n",
    "        print(\"Building edges names\")\n",
    "        interactions[\"name\"] = interactions[\"source_ensembl\"] + \" (\" + interactions[\"interaction_type\"] + \") \" + interactions[\"target_ensembl\"]\n",
    "        interactions = interactions[[\"name\", \"mi\", \"row_num\", \"distance\"]]\n",
    "        print(\"Adding edges attributes\")\n",
    "        p4c.load_table_data(interactions, data_key_column=\"name\", network = net[\"networkSUID\"], table = \"edge\")\n",
    "       "
   ]
  },
  {
   "cell_type": "code",
   "execution_count": 4,
   "metadata": {},
   "outputs": [],
   "source": [
    "tissues = [\"bladder\", \"brain\", \"breast\", \"colorectal\", \"esophagus\",\n",
    "            \"kidney\", \"liver\", \"lung\", \"ovary\", \"pancreas\", \"prostate\",\n",
    "            \"testis\", \"thyroid\",\"skin\", \"uterus\"]"
   ]
  },
  {
   "cell_type": "code",
   "execution_count": 10,
   "metadata": {},
   "outputs": [
    {
     "name": "stdout",
     "output_type": "stream",
     "text": [
      "Working with tissue: uterus\n",
      "Reading interactions\n",
      "\n",
      "Got network SUID1532902\n",
      "Building edges names\n",
      "Adding edges attributes\n"
     ]
    }
   ],
   "source": [
    "loadEdgesInfo([tissues[14]], \"100000\")"
   ]
  },
  {
   "cell_type": "code",
   "execution_count": null,
   "metadata": {},
   "outputs": [],
   "source": []
  }
 ],
 "metadata": {
  "kernelspec": {
   "display_name": "Python 3",
   "language": "python",
   "name": "python3"
  },
  "language_info": {
   "codemirror_mode": {
    "name": "ipython",
    "version": 3
   },
   "file_extension": ".py",
   "mimetype": "text/x-python",
   "name": "python",
   "nbconvert_exporter": "python",
   "pygments_lexer": "ipython3",
   "version": "3.8.5"
  }
 },
 "nbformat": 4,
 "nbformat_minor": 5
}
