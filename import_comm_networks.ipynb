{
 "cells": [
  {
   "cell_type": "code",
   "execution_count": 1,
   "id": "environmental-scenario",
   "metadata": {},
   "outputs": [],
   "source": [
    "import pandas as pd\n",
    "import py4cytoscape as p4c\n",
    "import glob"
   ]
  },
  {
   "cell_type": "code",
   "execution_count": 12,
   "id": "another-ancient",
   "metadata": {},
   "outputs": [
    {
     "name": "stdout",
     "output_type": "stream",
     "text": [
      "You are connected to Cytoscape!\n"
     ]
    },
    {
     "data": {
      "text/plain": [
       "{'apiVersion': 'v1',\n",
       " 'cytoscapeVersion': '3.9.0',\n",
       " 'automationAPIVersion': '1.2.0',\n",
       " 'py4cytoscapeVersion': '0.0.9'}"
      ]
     },
     "execution_count": 12,
     "metadata": {},
     "output_type": "execute_result"
    }
   ],
   "source": [
    "p4c.cytoscape_ping()\n",
    "p4c.cytoscape_version_info()"
   ]
  },
  {
   "cell_type": "code",
   "execution_count": 3,
   "id": "detailed-monte",
   "metadata": {},
   "outputs": [],
   "source": [
    "tissues = [\"bladder\", \"brain\", \"breast\", \"colorectal\", \"esophagus\",\n",
    "            \"kidney\", \"liver\", \"lung\", \"ovary\", \"pancreas\", \"prostate\",\n",
    "            \"testis\", \"thyroid\",\"skin\", \"uterus\"]"
   ]
  },
  {
   "cell_type": "code",
   "execution_count": 4,
   "id": "divided-replica",
   "metadata": {},
   "outputs": [],
   "source": [
    "n = \"100000\""
   ]
  },
  {
   "cell_type": "code",
   "execution_count": 8,
   "id": "lovely-underwear",
   "metadata": {},
   "outputs": [],
   "source": [
    "vertices = pd.read_csv(\"../regulaciontrans-data-server/pan-loss/network_aracne/cancer-communities-summary-\"+n+\".tsv\", sep=\"\\t\")"
   ]
  },
  {
   "cell_type": "code",
   "execution_count": 12,
   "id": "internal-procedure",
   "metadata": {},
   "outputs": [
    {
     "data": {
      "text/html": [
       "<div>\n",
       "<style scoped>\n",
       "    .dataframe tbody tr th:only-of-type {\n",
       "        vertical-align: middle;\n",
       "    }\n",
       "\n",
       "    .dataframe tbody tr th {\n",
       "        vertical-align: top;\n",
       "    }\n",
       "\n",
       "    .dataframe thead th {\n",
       "        text-align: right;\n",
       "    }\n",
       "</style>\n",
       "<table border=\"1\" class=\"dataframe\">\n",
       "  <thead>\n",
       "    <tr style=\"text-align: right;\">\n",
       "      <th></th>\n",
       "      <th>id</th>\n",
       "      <th>tissue</th>\n",
       "      <th>com_id</th>\n",
       "      <th>pg_gene</th>\n",
       "      <th>chr</th>\n",
       "      <th>order</th>\n",
       "      <th>size</th>\n",
       "      <th>intra_fraction</th>\n",
       "      <th>chr_assort</th>\n",
       "      <th>expression_assort</th>\n",
       "      <th>terms</th>\n",
       "    </tr>\n",
       "  </thead>\n",
       "  <tbody>\n",
       "    <tr>\n",
       "      <th>0</th>\n",
       "      <td>bladder_52</td>\n",
       "      <td>bladder</td>\n",
       "      <td>52</td>\n",
       "      <td>ENSG00000167721</td>\n",
       "      <td>17</td>\n",
       "      <td>172</td>\n",
       "      <td>5126</td>\n",
       "      <td>1.0</td>\n",
       "      <td>1.0</td>\n",
       "      <td>-0.329692</td>\n",
       "      <td>0</td>\n",
       "    </tr>\n",
       "    <tr>\n",
       "      <th>1</th>\n",
       "      <td>bladder_17</td>\n",
       "      <td>bladder</td>\n",
       "      <td>17</td>\n",
       "      <td>ENSG00000179950</td>\n",
       "      <td>8</td>\n",
       "      <td>207</td>\n",
       "      <td>4614</td>\n",
       "      <td>0.999567</td>\n",
       "      <td>0.999133</td>\n",
       "      <td>0.169918</td>\n",
       "      <td>0</td>\n",
       "    </tr>\n",
       "    <tr>\n",
       "      <th>2</th>\n",
       "      <td>bladder_46</td>\n",
       "      <td>bladder</td>\n",
       "      <td>46</td>\n",
       "      <td>ENSG00000105197</td>\n",
       "      <td>19</td>\n",
       "      <td>376</td>\n",
       "      <td>4332</td>\n",
       "      <td>0.999077</td>\n",
       "      <td>0.998153</td>\n",
       "      <td>0.006002</td>\n",
       "      <td>0</td>\n",
       "    </tr>\n",
       "    <tr>\n",
       "      <th>3</th>\n",
       "      <td>bladder_24</td>\n",
       "      <td>bladder</td>\n",
       "      <td>24</td>\n",
       "      <td>ENSG00000172046</td>\n",
       "      <td>3</td>\n",
       "      <td>274</td>\n",
       "      <td>4213</td>\n",
       "      <td>0.999051</td>\n",
       "      <td>0.998101</td>\n",
       "      <td>-0.202469</td>\n",
       "      <td>0</td>\n",
       "    </tr>\n",
       "    <tr>\n",
       "      <th>4</th>\n",
       "      <td>bladder_54</td>\n",
       "      <td>bladder</td>\n",
       "      <td>54</td>\n",
       "      <td>ENSG00000064419</td>\n",
       "      <td>7</td>\n",
       "      <td>246</td>\n",
       "      <td>3942</td>\n",
       "      <td>1.0</td>\n",
       "      <td>1.0</td>\n",
       "      <td>0.131913</td>\n",
       "      <td>0</td>\n",
       "    </tr>\n",
       "    <tr>\n",
       "      <th>...</th>\n",
       "      <td>...</td>\n",
       "      <td>...</td>\n",
       "      <td>...</td>\n",
       "      <td>...</td>\n",
       "      <td>...</td>\n",
       "      <td>...</td>\n",
       "      <td>...</td>\n",
       "      <td>...</td>\n",
       "      <td>...</td>\n",
       "      <td>...</td>\n",
       "      <td>...</td>\n",
       "    </tr>\n",
       "    <tr>\n",
       "      <th>317</th>\n",
       "      <td>bladder_316</td>\n",
       "      <td>bladder</td>\n",
       "      <td>316</td>\n",
       "      <td>ENSG00000274944</td>\n",
       "      <td>1</td>\n",
       "      <td>2</td>\n",
       "      <td>1</td>\n",
       "      <td>1.0</td>\n",
       "      <td>1.0</td>\n",
       "      <td>1.0</td>\n",
       "      <td>0</td>\n",
       "    </tr>\n",
       "    <tr>\n",
       "      <th>318</th>\n",
       "      <td>bladder_317</td>\n",
       "      <td>bladder</td>\n",
       "      <td>317</td>\n",
       "      <td>ENSG00000275895</td>\n",
       "      <td>21</td>\n",
       "      <td>2</td>\n",
       "      <td>1</td>\n",
       "      <td>1.0</td>\n",
       "      <td>1.0</td>\n",
       "      <td>1.0</td>\n",
       "      <td>0</td>\n",
       "    </tr>\n",
       "    <tr>\n",
       "      <th>319</th>\n",
       "      <td>bladder_319</td>\n",
       "      <td>bladder</td>\n",
       "      <td>319</td>\n",
       "      <td>ENSG00000277758</td>\n",
       "      <td>10</td>\n",
       "      <td>2</td>\n",
       "      <td>1</td>\n",
       "      <td>1.0</td>\n",
       "      <td>1.0</td>\n",
       "      <td>1.0</td>\n",
       "      <td>0</td>\n",
       "    </tr>\n",
       "    <tr>\n",
       "      <th>320</th>\n",
       "      <td>bladder_321</td>\n",
       "      <td>bladder</td>\n",
       "      <td>321</td>\n",
       "      <td>ENSG00000280537</td>\n",
       "      <td>2</td>\n",
       "      <td>2</td>\n",
       "      <td>1</td>\n",
       "      <td>1.0</td>\n",
       "      <td>1.0</td>\n",
       "      <td>1.0</td>\n",
       "      <td>0</td>\n",
       "    </tr>\n",
       "    <tr>\n",
       "      <th>tisue</th>\n",
       "      <td>bladder</td>\n",
       "      <td>bladder</td>\n",
       "      <td>bladder</td>\n",
       "      <td>bladder</td>\n",
       "      <td>bladder</td>\n",
       "      <td>bladder</td>\n",
       "      <td>bladder</td>\n",
       "      <td>bladder</td>\n",
       "      <td>bladder</td>\n",
       "      <td>bladder</td>\n",
       "      <td>bladder</td>\n",
       "    </tr>\n",
       "  </tbody>\n",
       "</table>\n",
       "<p>322 rows × 11 columns</p>\n",
       "</div>"
      ],
      "text/plain": [
       "                id   tissue   com_id          pg_gene      chr    order  \\\n",
       "0       bladder_52  bladder       52  ENSG00000167721       17      172   \n",
       "1       bladder_17  bladder       17  ENSG00000179950        8      207   \n",
       "2       bladder_46  bladder       46  ENSG00000105197       19      376   \n",
       "3       bladder_24  bladder       24  ENSG00000172046        3      274   \n",
       "4       bladder_54  bladder       54  ENSG00000064419        7      246   \n",
       "...            ...      ...      ...              ...      ...      ...   \n",
       "317    bladder_316  bladder      316  ENSG00000274944        1        2   \n",
       "318    bladder_317  bladder      317  ENSG00000275895       21        2   \n",
       "319    bladder_319  bladder      319  ENSG00000277758       10        2   \n",
       "320    bladder_321  bladder      321  ENSG00000280537        2        2   \n",
       "tisue      bladder  bladder  bladder          bladder  bladder  bladder   \n",
       "\n",
       "          size intra_fraction chr_assort expression_assort    terms  \n",
       "0         5126            1.0        1.0         -0.329692        0  \n",
       "1         4614       0.999567   0.999133          0.169918        0  \n",
       "2         4332       0.999077   0.998153          0.006002        0  \n",
       "3         4213       0.999051   0.998101         -0.202469        0  \n",
       "4         3942            1.0        1.0          0.131913        0  \n",
       "...        ...            ...        ...               ...      ...  \n",
       "317          1            1.0        1.0               1.0        0  \n",
       "318          1            1.0        1.0               1.0        0  \n",
       "319          1            1.0        1.0               1.0        0  \n",
       "320          1            1.0        1.0               1.0        0  \n",
       "tisue  bladder        bladder    bladder           bladder  bladder  \n",
       "\n",
       "[322 rows x 11 columns]"
      ]
     },
     "execution_count": 12,
     "metadata": {},
     "output_type": "execute_result"
    }
   ],
   "source": [
    "vertices.loc[vertices[\"tissue\"] == \"bladder\"]"
   ]
  },
  {
   "cell_type": "code",
   "execution_count": 14,
   "id": "occupied-stress",
   "metadata": {},
   "outputs": [
    {
     "name": "stdout",
     "output_type": "stream",
     "text": [
      "Working with tissue: bladder\n",
      "Reading interactions\n",
      "\n",
      "Reading vertices\n",
      "\n",
      "Loading network\n",
      "\n",
      "Applying default style...\n",
      "Applying preferred layout\n",
      "Working with tissue: brain\n",
      "Reading interactions\n",
      "\n",
      "Reading vertices\n",
      "\n",
      "Loading network\n",
      "\n",
      "Applying default style...\n",
      "Applying preferred layout\n",
      "Working with tissue: breast\n",
      "Reading interactions\n",
      "\n",
      "Reading vertices\n",
      "\n",
      "Loading network\n",
      "\n",
      "Applying default style...\n",
      "Applying preferred layout\n",
      "Working with tissue: colorectal\n",
      "Reading interactions\n",
      "\n",
      "Reading vertices\n",
      "\n",
      "Loading network\n",
      "\n",
      "Applying default style...\n",
      "Applying preferred layout\n",
      "Working with tissue: esophagus\n",
      "Reading interactions\n",
      "\n",
      "Reading vertices\n",
      "\n",
      "Loading network\n",
      "\n",
      "Applying default style...\n",
      "Applying preferred layout\n",
      "Working with tissue: kidney\n",
      "Reading interactions\n",
      "\n",
      "Reading vertices\n",
      "\n",
      "Loading network\n",
      "\n",
      "Applying default style...\n",
      "Applying preferred layout\n",
      "Working with tissue: liver\n",
      "Reading interactions\n",
      "\n",
      "Reading vertices\n",
      "\n",
      "Loading network\n",
      "\n",
      "Applying default style...\n",
      "Applying preferred layout\n",
      "Working with tissue: lung\n",
      "Reading interactions\n",
      "\n",
      "Reading vertices\n",
      "\n",
      "Loading network\n",
      "\n",
      "Applying default style...\n",
      "Applying preferred layout\n",
      "Working with tissue: ovary\n",
      "Reading interactions\n",
      "\n",
      "Reading vertices\n",
      "\n",
      "Loading network\n",
      "\n",
      "Applying default style...\n",
      "Applying preferred layout\n",
      "Working with tissue: pancreas\n",
      "Reading interactions\n",
      "\n",
      "Reading vertices\n",
      "\n",
      "Loading network\n",
      "\n",
      "Applying default style...\n",
      "Applying preferred layout\n",
      "Working with tissue: prostate\n",
      "Reading interactions\n",
      "\n",
      "Reading vertices\n",
      "\n",
      "Loading network\n",
      "\n",
      "Applying default style...\n",
      "Applying preferred layout\n",
      "Working with tissue: testis\n",
      "Reading interactions\n",
      "\n",
      "Reading vertices\n",
      "\n",
      "Loading network\n",
      "\n",
      "Applying default style...\n",
      "Applying preferred layout\n",
      "Working with tissue: thyroid\n",
      "Reading interactions\n",
      "\n",
      "Reading vertices\n",
      "\n",
      "Loading network\n",
      "\n",
      "Applying default style...\n",
      "Applying preferred layout\n",
      "Working with tissue: skin\n",
      "Reading interactions\n",
      "\n",
      "Reading vertices\n",
      "\n",
      "Loading network\n",
      "\n",
      "Applying default style...\n",
      "Applying preferred layout\n",
      "Working with tissue: uterus\n",
      "Reading interactions\n",
      "\n",
      "Reading vertices\n",
      "\n",
      "Loading network\n",
      "\n",
      "Applying default style...\n",
      "Applying preferred layout\n"
     ]
    }
   ],
   "source": [
    "for t in tissues:\n",
    "    print(\"Working with tissue: \" + t)\n",
    "    print(\"Reading interactions\\n\")\n",
    "    interactions = pd.read_csv(\"../regulaciontrans-data-server/\" + t \n",
    "                               +\"/network_aracne/communities/cancer-comm-network-all-louvain-\"+ n +\".tsv\",\n",
    "                               sep = \"\\t\") \n",
    "    print(\"Reading vertices\\n\")\n",
    "    tvertices = vertices.loc[vertices[\"tissue\"] == t]\n",
    "    print(\"Loading network\\n\")\n",
    "    net = p4c.networks.create_network_from_data_frames(nodes = tvertices,  edges = interactions, \n",
    "                                             node_id_list  = \"id\", \n",
    "                                             source_id_list = \"source\", \n",
    "                                             target_id_list = \"target\",\n",
    "                                            collection = t,  title = t + \"_cancer\")"
   ]
  },
  {
   "cell_type": "code",
   "execution_count": 15,
   "id": "colonial-norfolk",
   "metadata": {},
   "outputs": [],
   "source": [
    "vertices_normal = pd.read_csv(\"../regulaciontrans-data-server/pan-loss/network_aracne/normal-communities-summary-\"+n+\".tsv\", sep=\"\\t\")"
   ]
  },
  {
   "cell_type": "code",
   "execution_count": 17,
   "id": "blank-senior",
   "metadata": {},
   "outputs": [
    {
     "name": "stdout",
     "output_type": "stream",
     "text": [
      "Working with tissue: bladder\n",
      "Reading interactions\n",
      "\n",
      "Reading vertices\n",
      "\n",
      "Loading network\n",
      "\n",
      "Applying default style...\n",
      "Applying preferred layout\n",
      "Working with tissue: brain\n",
      "Reading interactions\n",
      "\n",
      "Reading vertices\n",
      "\n",
      "Loading network\n",
      "\n",
      "Applying default style...\n",
      "Applying preferred layout\n",
      "Working with tissue: breast\n",
      "Reading interactions\n",
      "\n",
      "Reading vertices\n",
      "\n",
      "Loading network\n",
      "\n",
      "Applying default style...\n",
      "Applying preferred layout\n",
      "Working with tissue: colorectal\n",
      "Reading interactions\n",
      "\n",
      "Reading vertices\n",
      "\n",
      "Loading network\n",
      "\n",
      "Applying default style...\n",
      "Applying preferred layout\n",
      "Working with tissue: esophagus\n",
      "Reading interactions\n",
      "\n",
      "Reading vertices\n",
      "\n",
      "Loading network\n",
      "\n",
      "Applying default style...\n",
      "Applying preferred layout\n",
      "Working with tissue: kidney\n",
      "Reading interactions\n",
      "\n",
      "Reading vertices\n",
      "\n",
      "Loading network\n",
      "\n",
      "Applying default style...\n",
      "Applying preferred layout\n",
      "Working with tissue: liver\n",
      "Reading interactions\n",
      "\n",
      "Reading vertices\n",
      "\n",
      "Loading network\n",
      "\n",
      "Applying default style...\n",
      "Applying preferred layout\n",
      "Working with tissue: lung\n",
      "Reading interactions\n",
      "\n",
      "Reading vertices\n",
      "\n",
      "Loading network\n",
      "\n",
      "Applying default style...\n",
      "Applying preferred layout\n",
      "Working with tissue: ovary\n",
      "Reading interactions\n",
      "\n",
      "Reading vertices\n",
      "\n",
      "Loading network\n",
      "\n",
      "Applying default style...\n",
      "Applying preferred layout\n",
      "Working with tissue: pancreas\n",
      "Reading interactions\n",
      "\n",
      "Reading vertices\n",
      "\n",
      "Loading network\n",
      "\n",
      "Applying default style...\n",
      "Applying preferred layout\n",
      "Working with tissue: prostate\n",
      "Reading interactions\n",
      "\n",
      "Reading vertices\n",
      "\n",
      "Loading network\n",
      "\n",
      "Applying default style...\n",
      "Applying preferred layout\n",
      "Working with tissue: testis\n",
      "Reading interactions\n",
      "\n",
      "Reading vertices\n",
      "\n",
      "Loading network\n",
      "\n",
      "Applying default style...\n",
      "Applying preferred layout\n",
      "Working with tissue: thyroid\n",
      "Reading interactions\n",
      "\n",
      "Reading vertices\n",
      "\n",
      "Loading network\n",
      "\n",
      "Applying default style...\n",
      "Applying preferred layout\n",
      "Working with tissue: skin\n",
      "Reading interactions\n",
      "\n",
      "Reading vertices\n",
      "\n",
      "Loading network\n",
      "\n",
      "Applying default style...\n",
      "Applying preferred layout\n",
      "Working with tissue: uterus\n",
      "Reading interactions\n",
      "\n",
      "Reading vertices\n",
      "\n",
      "Loading network\n",
      "\n",
      "Applying default style...\n",
      "Applying preferred layout\n"
     ]
    }
   ],
   "source": [
    "for t in tissues:\n",
    "    print(\"Working with tissue: \" + t)\n",
    "    print(\"Reading interactions\\n\")\n",
    "    interactions = pd.read_csv(\"../regulaciontrans-data-server/\" + t \n",
    "                               +\"/network_aracne/communities/normal-comm-network-all-louvain-\"+ n +\".tsv\",\n",
    "                               sep = \"\\t\") \n",
    "    print(\"Reading vertices\\n\")\n",
    "    tvertices = vertices_normal.loc[vertices_normal[\"tissue\"] == t]\n",
    "    print(\"Loading network\\n\")\n",
    "    net = p4c.networks.create_network_from_data_frames(nodes = tvertices,  edges = interactions, \n",
    "                                             node_id_list  = \"id\", \n",
    "                                             source_id_list = \"source\", \n",
    "                                             target_id_list = \"target\",\n",
    "                                            collection = t,  title = t + \"_normal\")"
   ]
  },
  {
   "cell_type": "code",
   "execution_count": 6,
   "id": "medical-board",
   "metadata": {},
   "outputs": [],
   "source": [
    "node_attrs = pd.read_csv(\"../regulaciontrans-data-server/pan-loss/network_aracne/cancer-communities-summary-\"+n+\".tsv\", sep=\"\\t\")"
   ]
  },
  {
   "cell_type": "code",
   "execution_count": 7,
   "id": "encouraging-panama",
   "metadata": {},
   "outputs": [
    {
     "data": {
      "text/html": [
       "<div>\n",
       "<style scoped>\n",
       "    .dataframe tbody tr th:only-of-type {\n",
       "        vertical-align: middle;\n",
       "    }\n",
       "\n",
       "    .dataframe tbody tr th {\n",
       "        vertical-align: top;\n",
       "    }\n",
       "\n",
       "    .dataframe thead th {\n",
       "        text-align: right;\n",
       "    }\n",
       "</style>\n",
       "<table border=\"1\" class=\"dataframe\">\n",
       "  <thead>\n",
       "    <tr style=\"text-align: right;\">\n",
       "      <th></th>\n",
       "      <th>id</th>\n",
       "      <th>tissue</th>\n",
       "      <th>com_id</th>\n",
       "      <th>pg_gene</th>\n",
       "      <th>chr</th>\n",
       "      <th>order</th>\n",
       "      <th>size</th>\n",
       "      <th>intra_fraction</th>\n",
       "      <th>chr_assort</th>\n",
       "      <th>expression_assort</th>\n",
       "      <th>terms</th>\n",
       "      <th>gene_name</th>\n",
       "    </tr>\n",
       "  </thead>\n",
       "  <tbody>\n",
       "    <tr>\n",
       "      <th>0</th>\n",
       "      <td>bladder_52</td>\n",
       "      <td>bladder</td>\n",
       "      <td>52</td>\n",
       "      <td>ENSG00000167721</td>\n",
       "      <td>17</td>\n",
       "      <td>172</td>\n",
       "      <td>5126</td>\n",
       "      <td>1.000000</td>\n",
       "      <td>1.000000</td>\n",
       "      <td>-0.329692</td>\n",
       "      <td>0</td>\n",
       "      <td>TSR1</td>\n",
       "    </tr>\n",
       "    <tr>\n",
       "      <th>1</th>\n",
       "      <td>bladder_17</td>\n",
       "      <td>bladder</td>\n",
       "      <td>17</td>\n",
       "      <td>ENSG00000179950</td>\n",
       "      <td>8</td>\n",
       "      <td>207</td>\n",
       "      <td>4614</td>\n",
       "      <td>0.999567</td>\n",
       "      <td>0.999133</td>\n",
       "      <td>0.169918</td>\n",
       "      <td>0</td>\n",
       "      <td>PUF60</td>\n",
       "    </tr>\n",
       "    <tr>\n",
       "      <th>2</th>\n",
       "      <td>bladder_46</td>\n",
       "      <td>bladder</td>\n",
       "      <td>46</td>\n",
       "      <td>ENSG00000105197</td>\n",
       "      <td>19</td>\n",
       "      <td>376</td>\n",
       "      <td>4332</td>\n",
       "      <td>0.999077</td>\n",
       "      <td>0.998153</td>\n",
       "      <td>0.006002</td>\n",
       "      <td>0</td>\n",
       "      <td>TIMM50</td>\n",
       "    </tr>\n",
       "    <tr>\n",
       "      <th>3</th>\n",
       "      <td>bladder_24</td>\n",
       "      <td>bladder</td>\n",
       "      <td>24</td>\n",
       "      <td>ENSG00000172046</td>\n",
       "      <td>3</td>\n",
       "      <td>274</td>\n",
       "      <td>4213</td>\n",
       "      <td>0.999051</td>\n",
       "      <td>0.998101</td>\n",
       "      <td>-0.202469</td>\n",
       "      <td>0</td>\n",
       "      <td>USP19</td>\n",
       "    </tr>\n",
       "    <tr>\n",
       "      <th>4</th>\n",
       "      <td>bladder_54</td>\n",
       "      <td>bladder</td>\n",
       "      <td>54</td>\n",
       "      <td>ENSG00000064419</td>\n",
       "      <td>7</td>\n",
       "      <td>246</td>\n",
       "      <td>3942</td>\n",
       "      <td>1.000000</td>\n",
       "      <td>1.000000</td>\n",
       "      <td>0.131913</td>\n",
       "      <td>0</td>\n",
       "      <td>TNPO3</td>\n",
       "    </tr>\n",
       "  </tbody>\n",
       "</table>\n",
       "</div>"
      ],
      "text/plain": [
       "           id   tissue  com_id          pg_gene chr  order  size  \\\n",
       "0  bladder_52  bladder      52  ENSG00000167721  17    172  5126   \n",
       "1  bladder_17  bladder      17  ENSG00000179950   8    207  4614   \n",
       "2  bladder_46  bladder      46  ENSG00000105197  19    376  4332   \n",
       "3  bladder_24  bladder      24  ENSG00000172046   3    274  4213   \n",
       "4  bladder_54  bladder      54  ENSG00000064419   7    246  3942   \n",
       "\n",
       "   intra_fraction  chr_assort  expression_assort  terms gene_name  \n",
       "0        1.000000    1.000000          -0.329692      0      TSR1  \n",
       "1        0.999567    0.999133           0.169918      0     PUF60  \n",
       "2        0.999077    0.998153           0.006002      0    TIMM50  \n",
       "3        0.999051    0.998101          -0.202469      0     USP19  \n",
       "4        1.000000    1.000000           0.131913      0     TNPO3  "
      ]
     },
     "execution_count": 7,
     "metadata": {},
     "output_type": "execute_result"
    }
   ],
   "source": [
    "node_attrs.head()"
   ]
  },
  {
   "cell_type": "code",
   "execution_count": 9,
   "id": "legitimate-burns",
   "metadata": {},
   "outputs": [
    {
     "data": {
      "text/html": [
       "<div>\n",
       "<style scoped>\n",
       "    .dataframe tbody tr th:only-of-type {\n",
       "        vertical-align: middle;\n",
       "    }\n",
       "\n",
       "    .dataframe tbody tr th {\n",
       "        vertical-align: top;\n",
       "    }\n",
       "\n",
       "    .dataframe thead th {\n",
       "        text-align: right;\n",
       "    }\n",
       "</style>\n",
       "<table border=\"1\" class=\"dataframe\">\n",
       "  <thead>\n",
       "    <tr style=\"text-align: right;\">\n",
       "      <th></th>\n",
       "      <th>id</th>\n",
       "      <th>gene_name</th>\n",
       "    </tr>\n",
       "  </thead>\n",
       "  <tbody>\n",
       "    <tr>\n",
       "      <th>0</th>\n",
       "      <td>bladder_52</td>\n",
       "      <td>TSR1</td>\n",
       "    </tr>\n",
       "    <tr>\n",
       "      <th>1</th>\n",
       "      <td>bladder_17</td>\n",
       "      <td>PUF60</td>\n",
       "    </tr>\n",
       "    <tr>\n",
       "      <th>2</th>\n",
       "      <td>bladder_46</td>\n",
       "      <td>TIMM50</td>\n",
       "    </tr>\n",
       "    <tr>\n",
       "      <th>3</th>\n",
       "      <td>bladder_24</td>\n",
       "      <td>USP19</td>\n",
       "    </tr>\n",
       "    <tr>\n",
       "      <th>4</th>\n",
       "      <td>bladder_54</td>\n",
       "      <td>TNPO3</td>\n",
       "    </tr>\n",
       "    <tr>\n",
       "      <th>...</th>\n",
       "      <td>...</td>\n",
       "      <td>...</td>\n",
       "    </tr>\n",
       "    <tr>\n",
       "      <th>3671</th>\n",
       "      <td>uterus_326</td>\n",
       "      <td>NBPF9</td>\n",
       "    </tr>\n",
       "    <tr>\n",
       "      <th>3672</th>\n",
       "      <td>uterus_327</td>\n",
       "      <td>SLC25A53</td>\n",
       "    </tr>\n",
       "    <tr>\n",
       "      <th>3673</th>\n",
       "      <td>uterus_328</td>\n",
       "      <td>TLCD4-RWDD3</td>\n",
       "    </tr>\n",
       "    <tr>\n",
       "      <th>3674</th>\n",
       "      <td>uterus_329</td>\n",
       "      <td>FP565260.3</td>\n",
       "    </tr>\n",
       "    <tr>\n",
       "      <th>3675</th>\n",
       "      <td>uterus_330</td>\n",
       "      <td>PRICKLE4</td>\n",
       "    </tr>\n",
       "  </tbody>\n",
       "</table>\n",
       "<p>3676 rows × 2 columns</p>\n",
       "</div>"
      ],
      "text/plain": [
       "              id    gene_name\n",
       "0     bladder_52         TSR1\n",
       "1     bladder_17        PUF60\n",
       "2     bladder_46       TIMM50\n",
       "3     bladder_24        USP19\n",
       "4     bladder_54        TNPO3\n",
       "...          ...          ...\n",
       "3671  uterus_326        NBPF9\n",
       "3672  uterus_327     SLC25A53\n",
       "3673  uterus_328  TLCD4-RWDD3\n",
       "3674  uterus_329   FP565260.3\n",
       "3675  uterus_330     PRICKLE4\n",
       "\n",
       "[3676 rows x 2 columns]"
      ]
     },
     "execution_count": 9,
     "metadata": {},
     "output_type": "execute_result"
    }
   ],
   "source": [
    "node_attrs[[\"id\", \"gene_name\"]]"
   ]
  },
  {
   "cell_type": "code",
   "execution_count": 11,
   "id": "addressed-vienna",
   "metadata": {},
   "outputs": [
    {
     "name": "stdout",
     "output_type": "stream",
     "text": [
      "Got network SUID2494\n",
      "Setting node attributes\n",
      "\n"
     ]
    },
    {
     "name": "stderr",
     "output_type": "stream",
     "text": [
      "/home/diana/.local/lib/python3.9/site-packages/py4cytoscape/tables.py:474: SettingWithCopyWarning: \n",
      "A value is trying to be set on a copy of a slice from a DataFrame.\n",
      "Try using .loc[row_indexer,col_indexer] = value instead\n",
      "\n",
      "See the caveats in the documentation: https://pandas.pydata.org/pandas-docs/stable/user_guide/indexing.html#returning-a-view-versus-a-copy\n",
      "  data_subset[col] = col_val\n"
     ]
    },
    {
     "name": "stdout",
     "output_type": "stream",
     "text": [
      "Got network SUID3924\n",
      "Setting node attributes\n",
      "\n"
     ]
    },
    {
     "name": "stderr",
     "output_type": "stream",
     "text": [
      "/home/diana/.local/lib/python3.9/site-packages/py4cytoscape/tables.py:474: SettingWithCopyWarning: \n",
      "A value is trying to be set on a copy of a slice from a DataFrame.\n",
      "Try using .loc[row_indexer,col_indexer] = value instead\n",
      "\n",
      "See the caveats in the documentation: https://pandas.pydata.org/pandas-docs/stable/user_guide/indexing.html#returning-a-view-versus-a-copy\n",
      "  data_subset[col] = col_val\n"
     ]
    },
    {
     "name": "stdout",
     "output_type": "stream",
     "text": [
      "Got network SUID7186\n",
      "Setting node attributes\n",
      "\n"
     ]
    },
    {
     "name": "stderr",
     "output_type": "stream",
     "text": [
      "/home/diana/.local/lib/python3.9/site-packages/py4cytoscape/tables.py:474: SettingWithCopyWarning: \n",
      "A value is trying to be set on a copy of a slice from a DataFrame.\n",
      "Try using .loc[row_indexer,col_indexer] = value instead\n",
      "\n",
      "See the caveats in the documentation: https://pandas.pydata.org/pandas-docs/stable/user_guide/indexing.html#returning-a-view-versus-a-copy\n",
      "  data_subset[col] = col_val\n"
     ]
    },
    {
     "name": "stdout",
     "output_type": "stream",
     "text": [
      "Got network SUID11612\n",
      "Setting node attributes\n",
      "\n"
     ]
    },
    {
     "name": "stderr",
     "output_type": "stream",
     "text": [
      "/home/diana/.local/lib/python3.9/site-packages/py4cytoscape/tables.py:474: SettingWithCopyWarning: \n",
      "A value is trying to be set on a copy of a slice from a DataFrame.\n",
      "Try using .loc[row_indexer,col_indexer] = value instead\n",
      "\n",
      "See the caveats in the documentation: https://pandas.pydata.org/pandas-docs/stable/user_guide/indexing.html#returning-a-view-versus-a-copy\n",
      "  data_subset[col] = col_val\n"
     ]
    },
    {
     "name": "stdout",
     "output_type": "stream",
     "text": [
      "Got network SUID5288\n",
      "Setting node attributes\n",
      "\n"
     ]
    },
    {
     "name": "stderr",
     "output_type": "stream",
     "text": [
      "/home/diana/.local/lib/python3.9/site-packages/py4cytoscape/tables.py:474: SettingWithCopyWarning: \n",
      "A value is trying to be set on a copy of a slice from a DataFrame.\n",
      "Try using .loc[row_indexer,col_indexer] = value instead\n",
      "\n",
      "See the caveats in the documentation: https://pandas.pydata.org/pandas-docs/stable/user_guide/indexing.html#returning-a-view-versus-a-copy\n",
      "  data_subset[col] = col_val\n"
     ]
    },
    {
     "name": "stdout",
     "output_type": "stream",
     "text": [
      "Got network SUID10702\n",
      "Setting node attributes\n",
      "\n"
     ]
    },
    {
     "name": "stderr",
     "output_type": "stream",
     "text": [
      "/home/diana/.local/lib/python3.9/site-packages/py4cytoscape/tables.py:474: SettingWithCopyWarning: \n",
      "A value is trying to be set on a copy of a slice from a DataFrame.\n",
      "Try using .loc[row_indexer,col_indexer] = value instead\n",
      "\n",
      "See the caveats in the documentation: https://pandas.pydata.org/pandas-docs/stable/user_guide/indexing.html#returning-a-view-versus-a-copy\n",
      "  data_subset[col] = col_val\n"
     ]
    },
    {
     "name": "stdout",
     "output_type": "stream",
     "text": [
      "Got network SUID3112\n",
      "Setting node attributes\n",
      "\n"
     ]
    },
    {
     "name": "stderr",
     "output_type": "stream",
     "text": [
      "/home/diana/.local/lib/python3.9/site-packages/py4cytoscape/tables.py:474: SettingWithCopyWarning: \n",
      "A value is trying to be set on a copy of a slice from a DataFrame.\n",
      "Try using .loc[row_indexer,col_indexer] = value instead\n",
      "\n",
      "See the caveats in the documentation: https://pandas.pydata.org/pandas-docs/stable/user_guide/indexing.html#returning-a-view-versus-a-copy\n",
      "  data_subset[col] = col_val\n"
     ]
    },
    {
     "name": "stdout",
     "output_type": "stream",
     "text": [
      "Got network SUID4676\n",
      "Setting node attributes\n",
      "\n"
     ]
    },
    {
     "name": "stderr",
     "output_type": "stream",
     "text": [
      "/home/diana/.local/lib/python3.9/site-packages/py4cytoscape/tables.py:474: SettingWithCopyWarning: \n",
      "A value is trying to be set on a copy of a slice from a DataFrame.\n",
      "Try using .loc[row_indexer,col_indexer] = value instead\n",
      "\n",
      "See the caveats in the documentation: https://pandas.pydata.org/pandas-docs/stable/user_guide/indexing.html#returning-a-view-versus-a-copy\n",
      "  data_subset[col] = col_val\n"
     ]
    },
    {
     "name": "stdout",
     "output_type": "stream",
     "text": [
      "Got network SUID1166\n",
      "Setting node attributes\n",
      "\n"
     ]
    },
    {
     "name": "stderr",
     "output_type": "stream",
     "text": [
      "/home/diana/.local/lib/python3.9/site-packages/py4cytoscape/tables.py:474: SettingWithCopyWarning: \n",
      "A value is trying to be set on a copy of a slice from a DataFrame.\n",
      "Try using .loc[row_indexer,col_indexer] = value instead\n",
      "\n",
      "See the caveats in the documentation: https://pandas.pydata.org/pandas-docs/stable/user_guide/indexing.html#returning-a-view-versus-a-copy\n",
      "  data_subset[col] = col_val\n"
     ]
    },
    {
     "name": "stdout",
     "output_type": "stream",
     "text": [
      "Got network SUID12440\n",
      "Setting node attributes\n",
      "\n"
     ]
    },
    {
     "name": "stderr",
     "output_type": "stream",
     "text": [
      "/home/diana/.local/lib/python3.9/site-packages/py4cytoscape/tables.py:474: SettingWithCopyWarning: \n",
      "A value is trying to be set on a copy of a slice from a DataFrame.\n",
      "Try using .loc[row_indexer,col_indexer] = value instead\n",
      "\n",
      "See the caveats in the documentation: https://pandas.pydata.org/pandas-docs/stable/user_guide/indexing.html#returning-a-view-versus-a-copy\n",
      "  data_subset[col] = col_val\n"
     ]
    },
    {
     "name": "stdout",
     "output_type": "stream",
     "text": [
      "Got network SUID8946\n",
      "Setting node attributes\n",
      "\n"
     ]
    },
    {
     "name": "stderr",
     "output_type": "stream",
     "text": [
      "/home/diana/.local/lib/python3.9/site-packages/py4cytoscape/tables.py:474: SettingWithCopyWarning: \n",
      "A value is trying to be set on a copy of a slice from a DataFrame.\n",
      "Try using .loc[row_indexer,col_indexer] = value instead\n",
      "\n",
      "See the caveats in the documentation: https://pandas.pydata.org/pandas-docs/stable/user_guide/indexing.html#returning-a-view-versus-a-copy\n",
      "  data_subset[col] = col_val\n"
     ]
    },
    {
     "name": "stdout",
     "output_type": "stream",
     "text": [
      "Got network SUID7956\n",
      "Setting node attributes\n",
      "\n"
     ]
    },
    {
     "name": "stderr",
     "output_type": "stream",
     "text": [
      "/home/diana/.local/lib/python3.9/site-packages/py4cytoscape/tables.py:474: SettingWithCopyWarning: \n",
      "A value is trying to be set on a copy of a slice from a DataFrame.\n",
      "Try using .loc[row_indexer,col_indexer] = value instead\n",
      "\n",
      "See the caveats in the documentation: https://pandas.pydata.org/pandas-docs/stable/user_guide/indexing.html#returning-a-view-versus-a-copy\n",
      "  data_subset[col] = col_val\n"
     ]
    },
    {
     "name": "stdout",
     "output_type": "stream",
     "text": [
      "Got network SUID1932\n",
      "Setting node attributes\n",
      "\n"
     ]
    },
    {
     "name": "stderr",
     "output_type": "stream",
     "text": [
      "/home/diana/.local/lib/python3.9/site-packages/py4cytoscape/tables.py:474: SettingWithCopyWarning: \n",
      "A value is trying to be set on a copy of a slice from a DataFrame.\n",
      "Try using .loc[row_indexer,col_indexer] = value instead\n",
      "\n",
      "See the caveats in the documentation: https://pandas.pydata.org/pandas-docs/stable/user_guide/indexing.html#returning-a-view-versus-a-copy\n",
      "  data_subset[col] = col_val\n"
     ]
    },
    {
     "name": "stdout",
     "output_type": "stream",
     "text": [
      "Got network SUID9822\n",
      "Setting node attributes\n",
      "\n"
     ]
    },
    {
     "name": "stderr",
     "output_type": "stream",
     "text": [
      "/home/diana/.local/lib/python3.9/site-packages/py4cytoscape/tables.py:474: SettingWithCopyWarning: \n",
      "A value is trying to be set on a copy of a slice from a DataFrame.\n",
      "Try using .loc[row_indexer,col_indexer] = value instead\n",
      "\n",
      "See the caveats in the documentation: https://pandas.pydata.org/pandas-docs/stable/user_guide/indexing.html#returning-a-view-versus-a-copy\n",
      "  data_subset[col] = col_val\n"
     ]
    },
    {
     "name": "stdout",
     "output_type": "stream",
     "text": [
      "Got network SUID124\n",
      "Setting node attributes\n",
      "\n"
     ]
    },
    {
     "name": "stderr",
     "output_type": "stream",
     "text": [
      "/home/diana/.local/lib/python3.9/site-packages/py4cytoscape/tables.py:474: SettingWithCopyWarning: \n",
      "A value is trying to be set on a copy of a slice from a DataFrame.\n",
      "Try using .loc[row_indexer,col_indexer] = value instead\n",
      "\n",
      "See the caveats in the documentation: https://pandas.pydata.org/pandas-docs/stable/user_guide/indexing.html#returning-a-view-versus-a-copy\n",
      "  data_subset[col] = col_val\n"
     ]
    }
   ],
   "source": [
    "for t in tissues:\n",
    "    suid = p4c.networks.get_network_suid(title = t + \"_cancer\")\n",
    "    print(\"Got network SUID\" + str(suid))\n",
    "    net = {\"networkSUID\": suid}\n",
    "    print(\"Setting node attributes\\n\")\n",
    "    node_attrs = pd.read_csv(\"../regulaciontrans-data-server/pan-loss/network_aracne/cancer-communities-summary-\"+n+\".tsv\", sep=\"\\t\")\n",
    "    node_attrs = node_attrs[[\"id\", \"gene_name\"]]\n",
    "    p4c.load_table_data(node_attrs, data_key_column=\"id\", network = net[\"networkSUID\"])"
   ]
  },
  {
   "cell_type": "code",
   "execution_count": 13,
   "id": "renewable-luxembourg",
   "metadata": {},
   "outputs": [
    {
     "name": "stdout",
     "output_type": "stream",
     "text": [
      "Got network SUID47818\n",
      "Setting node attributes\n",
      "\n"
     ]
    },
    {
     "name": "stderr",
     "output_type": "stream",
     "text": [
      "/home/diana/.local/lib/python3.9/site-packages/py4cytoscape/tables.py:474: SettingWithCopyWarning: \n",
      "A value is trying to be set on a copy of a slice from a DataFrame.\n",
      "Try using .loc[row_indexer,col_indexer] = value instead\n",
      "\n",
      "See the caveats in the documentation: https://pandas.pydata.org/pandas-docs/stable/user_guide/indexing.html#returning-a-view-versus-a-copy\n",
      "  data_subset[col] = col_val\n"
     ]
    },
    {
     "name": "stdout",
     "output_type": "stream",
     "text": [
      "Got network SUID50590\n",
      "Setting node attributes\n",
      "\n"
     ]
    },
    {
     "name": "stderr",
     "output_type": "stream",
     "text": [
      "/home/diana/.local/lib/python3.9/site-packages/py4cytoscape/tables.py:474: SettingWithCopyWarning: \n",
      "A value is trying to be set on a copy of a slice from a DataFrame.\n",
      "Try using .loc[row_indexer,col_indexer] = value instead\n",
      "\n",
      "See the caveats in the documentation: https://pandas.pydata.org/pandas-docs/stable/user_guide/indexing.html#returning-a-view-versus-a-copy\n",
      "  data_subset[col] = col_val\n"
     ]
    },
    {
     "name": "stdout",
     "output_type": "stream",
     "text": [
      "Got network SUID52856\n",
      "Setting node attributes\n",
      "\n"
     ]
    },
    {
     "name": "stderr",
     "output_type": "stream",
     "text": [
      "/home/diana/.local/lib/python3.9/site-packages/py4cytoscape/tables.py:474: SettingWithCopyWarning: \n",
      "A value is trying to be set on a copy of a slice from a DataFrame.\n",
      "Try using .loc[row_indexer,col_indexer] = value instead\n",
      "\n",
      "See the caveats in the documentation: https://pandas.pydata.org/pandas-docs/stable/user_guide/indexing.html#returning-a-view-versus-a-copy\n",
      "  data_subset[col] = col_val\n"
     ]
    },
    {
     "name": "stdout",
     "output_type": "stream",
     "text": [
      "Got network SUID53312\n",
      "Setting node attributes\n",
      "\n"
     ]
    },
    {
     "name": "stderr",
     "output_type": "stream",
     "text": [
      "/home/diana/.local/lib/python3.9/site-packages/py4cytoscape/tables.py:474: SettingWithCopyWarning: \n",
      "A value is trying to be set on a copy of a slice from a DataFrame.\n",
      "Try using .loc[row_indexer,col_indexer] = value instead\n",
      "\n",
      "See the caveats in the documentation: https://pandas.pydata.org/pandas-docs/stable/user_guide/indexing.html#returning-a-view-versus-a-copy\n",
      "  data_subset[col] = col_val\n"
     ]
    },
    {
     "name": "stdout",
     "output_type": "stream",
     "text": [
      "Got network SUID48740\n",
      "Setting node attributes\n",
      "\n"
     ]
    },
    {
     "name": "stderr",
     "output_type": "stream",
     "text": [
      "/home/diana/.local/lib/python3.9/site-packages/py4cytoscape/tables.py:474: SettingWithCopyWarning: \n",
      "A value is trying to be set on a copy of a slice from a DataFrame.\n",
      "Try using .loc[row_indexer,col_indexer] = value instead\n",
      "\n",
      "See the caveats in the documentation: https://pandas.pydata.org/pandas-docs/stable/user_guide/indexing.html#returning-a-view-versus-a-copy\n",
      "  data_subset[col] = col_val\n"
     ]
    },
    {
     "name": "stdout",
     "output_type": "stream",
     "text": [
      "Got network SUID51652\n",
      "Setting node attributes\n",
      "\n"
     ]
    },
    {
     "name": "stderr",
     "output_type": "stream",
     "text": [
      "/home/diana/.local/lib/python3.9/site-packages/py4cytoscape/tables.py:474: SettingWithCopyWarning: \n",
      "A value is trying to be set on a copy of a slice from a DataFrame.\n",
      "Try using .loc[row_indexer,col_indexer] = value instead\n",
      "\n",
      "See the caveats in the documentation: https://pandas.pydata.org/pandas-docs/stable/user_guide/indexing.html#returning-a-view-versus-a-copy\n",
      "  data_subset[col] = col_val\n"
     ]
    },
    {
     "name": "stdout",
     "output_type": "stream",
     "text": [
      "Got network SUID49190\n",
      "Setting node attributes\n",
      "\n"
     ]
    },
    {
     "name": "stderr",
     "output_type": "stream",
     "text": [
      "/home/diana/.local/lib/python3.9/site-packages/py4cytoscape/tables.py:474: SettingWithCopyWarning: \n",
      "A value is trying to be set on a copy of a slice from a DataFrame.\n",
      "Try using .loc[row_indexer,col_indexer] = value instead\n",
      "\n",
      "See the caveats in the documentation: https://pandas.pydata.org/pandas-docs/stable/user_guide/indexing.html#returning-a-view-versus-a-copy\n",
      "  data_subset[col] = col_val\n"
     ]
    },
    {
     "name": "stdout",
     "output_type": "stream",
     "text": [
      "Got network SUID48258\n",
      "Setting node attributes\n",
      "\n"
     ]
    },
    {
     "name": "stderr",
     "output_type": "stream",
     "text": [
      "/home/diana/.local/lib/python3.9/site-packages/py4cytoscape/tables.py:474: SettingWithCopyWarning: \n",
      "A value is trying to be set on a copy of a slice from a DataFrame.\n",
      "Try using .loc[row_indexer,col_indexer] = value instead\n",
      "\n",
      "See the caveats in the documentation: https://pandas.pydata.org/pandas-docs/stable/user_guide/indexing.html#returning-a-view-versus-a-copy\n",
      "  data_subset[col] = col_val\n"
     ]
    },
    {
     "name": "stdout",
     "output_type": "stream",
     "text": [
      "Got network SUID51400\n",
      "Setting node attributes\n",
      "\n"
     ]
    },
    {
     "name": "stderr",
     "output_type": "stream",
     "text": [
      "/home/diana/.local/lib/python3.9/site-packages/py4cytoscape/tables.py:474: SettingWithCopyWarning: \n",
      "A value is trying to be set on a copy of a slice from a DataFrame.\n",
      "Try using .loc[row_indexer,col_indexer] = value instead\n",
      "\n",
      "See the caveats in the documentation: https://pandas.pydata.org/pandas-docs/stable/user_guide/indexing.html#returning-a-view-versus-a-copy\n",
      "  data_subset[col] = col_val\n"
     ]
    },
    {
     "name": "stdout",
     "output_type": "stream",
     "text": [
      "Got network SUID52432\n",
      "Setting node attributes\n",
      "\n"
     ]
    },
    {
     "name": "stderr",
     "output_type": "stream",
     "text": [
      "/home/diana/.local/lib/python3.9/site-packages/py4cytoscape/tables.py:474: SettingWithCopyWarning: \n",
      "A value is trying to be set on a copy of a slice from a DataFrame.\n",
      "Try using .loc[row_indexer,col_indexer] = value instead\n",
      "\n",
      "See the caveats in the documentation: https://pandas.pydata.org/pandas-docs/stable/user_guide/indexing.html#returning-a-view-versus-a-copy\n",
      "  data_subset[col] = col_val\n"
     ]
    },
    {
     "name": "stdout",
     "output_type": "stream",
     "text": [
      "Got network SUID50256\n",
      "Setting node attributes\n",
      "\n"
     ]
    },
    {
     "name": "stderr",
     "output_type": "stream",
     "text": [
      "/home/diana/.local/lib/python3.9/site-packages/py4cytoscape/tables.py:474: SettingWithCopyWarning: \n",
      "A value is trying to be set on a copy of a slice from a DataFrame.\n",
      "Try using .loc[row_indexer,col_indexer] = value instead\n",
      "\n",
      "See the caveats in the documentation: https://pandas.pydata.org/pandas-docs/stable/user_guide/indexing.html#returning-a-view-versus-a-copy\n",
      "  data_subset[col] = col_val\n"
     ]
    },
    {
     "name": "stdout",
     "output_type": "stream",
     "text": [
      "Got network SUID52094\n",
      "Setting node attributes\n",
      "\n"
     ]
    },
    {
     "name": "stderr",
     "output_type": "stream",
     "text": [
      "/home/diana/.local/lib/python3.9/site-packages/py4cytoscape/tables.py:474: SettingWithCopyWarning: \n",
      "A value is trying to be set on a copy of a slice from a DataFrame.\n",
      "Try using .loc[row_indexer,col_indexer] = value instead\n",
      "\n",
      "See the caveats in the documentation: https://pandas.pydata.org/pandas-docs/stable/user_guide/indexing.html#returning-a-view-versus-a-copy\n",
      "  data_subset[col] = col_val\n"
     ]
    },
    {
     "name": "stdout",
     "output_type": "stream",
     "text": [
      "Got network SUID49778\n",
      "Setting node attributes\n",
      "\n"
     ]
    },
    {
     "name": "stderr",
     "output_type": "stream",
     "text": [
      "/home/diana/.local/lib/python3.9/site-packages/py4cytoscape/tables.py:474: SettingWithCopyWarning: \n",
      "A value is trying to be set on a copy of a slice from a DataFrame.\n",
      "Try using .loc[row_indexer,col_indexer] = value instead\n",
      "\n",
      "See the caveats in the documentation: https://pandas.pydata.org/pandas-docs/stable/user_guide/indexing.html#returning-a-view-versus-a-copy\n",
      "  data_subset[col] = col_val\n"
     ]
    },
    {
     "name": "stdout",
     "output_type": "stream",
     "text": [
      "Got network SUID50918\n",
      "Setting node attributes\n",
      "\n"
     ]
    },
    {
     "name": "stderr",
     "output_type": "stream",
     "text": [
      "/home/diana/.local/lib/python3.9/site-packages/py4cytoscape/tables.py:474: SettingWithCopyWarning: \n",
      "A value is trying to be set on a copy of a slice from a DataFrame.\n",
      "Try using .loc[row_indexer,col_indexer] = value instead\n",
      "\n",
      "See the caveats in the documentation: https://pandas.pydata.org/pandas-docs/stable/user_guide/indexing.html#returning-a-view-versus-a-copy\n",
      "  data_subset[col] = col_val\n"
     ]
    },
    {
     "name": "stdout",
     "output_type": "stream",
     "text": [
      "Got network SUID47400\n",
      "Setting node attributes\n",
      "\n"
     ]
    },
    {
     "name": "stderr",
     "output_type": "stream",
     "text": [
      "/home/diana/.local/lib/python3.9/site-packages/py4cytoscape/tables.py:474: SettingWithCopyWarning: \n",
      "A value is trying to be set on a copy of a slice from a DataFrame.\n",
      "Try using .loc[row_indexer,col_indexer] = value instead\n",
      "\n",
      "See the caveats in the documentation: https://pandas.pydata.org/pandas-docs/stable/user_guide/indexing.html#returning-a-view-versus-a-copy\n",
      "  data_subset[col] = col_val\n"
     ]
    }
   ],
   "source": [
    "for t in tissues:\n",
    "    suid = p4c.networks.get_network_suid(title = t + \"_normal\")\n",
    "    print(\"Got network SUID\" + str(suid))\n",
    "    net = {\"networkSUID\": suid}\n",
    "    print(\"Setting node attributes\\n\")\n",
    "    node_attrs = pd.read_csv(\"../regulaciontrans-data-server/pan-loss/network_aracne/normal-communities-summary-\"+n+\".tsv\", sep=\"\\t\")\n",
    "    node_attrs = node_attrs[[\"id\", \"gene_name\"]]\n",
    "    p4c.load_table_data(node_attrs, data_key_column=\"id\", network = net[\"networkSUID\"])"
   ]
  }
 ],
 "metadata": {
  "kernelspec": {
   "display_name": "Python 3",
   "language": "python",
   "name": "python3"
  },
  "language_info": {
   "codemirror_mode": {
    "name": "ipython",
    "version": 3
   },
   "file_extension": ".py",
   "mimetype": "text/x-python",
   "name": "python",
   "nbconvert_exporter": "python",
   "pygments_lexer": "ipython3",
   "version": "3.9.1"
  }
 },
 "nbformat": 4,
 "nbformat_minor": 5
}
